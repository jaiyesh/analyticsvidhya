{
 "cells": [
  {
   "cell_type": "code",
   "execution_count": 1,
   "metadata": {},
   "outputs": [],
   "source": [
    "import pandas as pd\n",
    "import numpy as np\n",
    "import matplotlib.pyplot as plt"
   ]
  },
  {
   "cell_type": "code",
   "execution_count": 2,
   "metadata": {},
   "outputs": [],
   "source": [
    "#Getting data of crude price\n",
    "df = pd.read_html('https://www.eia.gov/opendata/qb.php?sdid=PET.RBRTE.D')"
   ]
  },
  {
   "cell_type": "code",
   "execution_count": 3,
   "metadata": {},
   "outputs": [
    {
     "data": {
      "text/plain": [
       "[                             Series Name    Period Frequency  Value  \\\n",
       " 0     Europe Brent Spot Price FOB, Daily  20221219         D  81.66   \n",
       " 1     Europe Brent Spot Price FOB, Daily  20221216         D  80.20   \n",
       " 2     Europe Brent Spot Price FOB, Daily  20221215         D  82.34   \n",
       " 3     Europe Brent Spot Price FOB, Daily  20221214         D  83.33   \n",
       " 4     Europe Brent Spot Price FOB, Daily  20221212         D  78.00   \n",
       " ...                                  ...       ...       ...    ...   \n",
       " 9041  Europe Brent Spot Price FOB, Daily  19870526         D  18.63   \n",
       " 9042  Europe Brent Spot Price FOB, Daily  19870525         D  18.60   \n",
       " 9043  Europe Brent Spot Price FOB, Daily  19870522         D  18.55   \n",
       " 9044  Europe Brent Spot Price FOB, Daily  19870521         D  18.45   \n",
       " 9045  Europe Brent Spot Price FOB, Daily  19870520         D  18.63   \n",
       " \n",
       "                    Units  \n",
       " 0     Dollars per Barrel  \n",
       " 1     Dollars per Barrel  \n",
       " 2     Dollars per Barrel  \n",
       " 3     Dollars per Barrel  \n",
       " 4     Dollars per Barrel  \n",
       " ...                  ...  \n",
       " 9041  Dollars per Barrel  \n",
       " 9042  Dollars per Barrel  \n",
       " 9043  Dollars per Barrel  \n",
       " 9044  Dollars per Barrel  \n",
       " 9045  Dollars per Barrel  \n",
       " \n",
       " [9046 rows x 5 columns]]"
      ]
     },
     "execution_count": 3,
     "metadata": {},
     "output_type": "execute_result"
    }
   ],
   "source": [
    "df"
   ]
  },
  {
   "cell_type": "code",
   "execution_count": 4,
   "metadata": {},
   "outputs": [
    {
     "data": {
      "text/plain": [
       "1"
      ]
     },
     "execution_count": 4,
     "metadata": {},
     "output_type": "execute_result"
    }
   ],
   "source": [
    "len(df) #df is list"
   ]
  },
  {
   "cell_type": "code",
   "execution_count": 5,
   "metadata": {},
   "outputs": [],
   "source": [
    "df = df[0] #Getting dataframe out of list"
   ]
  },
  {
   "cell_type": "code",
   "execution_count": 6,
   "metadata": {},
   "outputs": [
    {
     "data": {
      "text/html": [
       "<div>\n",
       "<style scoped>\n",
       "    .dataframe tbody tr th:only-of-type {\n",
       "        vertical-align: middle;\n",
       "    }\n",
       "\n",
       "    .dataframe tbody tr th {\n",
       "        vertical-align: top;\n",
       "    }\n",
       "\n",
       "    .dataframe thead th {\n",
       "        text-align: right;\n",
       "    }\n",
       "</style>\n",
       "<table border=\"1\" class=\"dataframe\">\n",
       "  <thead>\n",
       "    <tr style=\"text-align: right;\">\n",
       "      <th></th>\n",
       "      <th>Series Name</th>\n",
       "      <th>Period</th>\n",
       "      <th>Frequency</th>\n",
       "      <th>Value</th>\n",
       "      <th>Units</th>\n",
       "    </tr>\n",
       "  </thead>\n",
       "  <tbody>\n",
       "    <tr>\n",
       "      <th>0</th>\n",
       "      <td>Europe Brent Spot Price FOB, Daily</td>\n",
       "      <td>20221219</td>\n",
       "      <td>D</td>\n",
       "      <td>81.66</td>\n",
       "      <td>Dollars per Barrel</td>\n",
       "    </tr>\n",
       "    <tr>\n",
       "      <th>1</th>\n",
       "      <td>Europe Brent Spot Price FOB, Daily</td>\n",
       "      <td>20221216</td>\n",
       "      <td>D</td>\n",
       "      <td>80.20</td>\n",
       "      <td>Dollars per Barrel</td>\n",
       "    </tr>\n",
       "    <tr>\n",
       "      <th>2</th>\n",
       "      <td>Europe Brent Spot Price FOB, Daily</td>\n",
       "      <td>20221215</td>\n",
       "      <td>D</td>\n",
       "      <td>82.34</td>\n",
       "      <td>Dollars per Barrel</td>\n",
       "    </tr>\n",
       "    <tr>\n",
       "      <th>3</th>\n",
       "      <td>Europe Brent Spot Price FOB, Daily</td>\n",
       "      <td>20221214</td>\n",
       "      <td>D</td>\n",
       "      <td>83.33</td>\n",
       "      <td>Dollars per Barrel</td>\n",
       "    </tr>\n",
       "    <tr>\n",
       "      <th>4</th>\n",
       "      <td>Europe Brent Spot Price FOB, Daily</td>\n",
       "      <td>20221212</td>\n",
       "      <td>D</td>\n",
       "      <td>78.00</td>\n",
       "      <td>Dollars per Barrel</td>\n",
       "    </tr>\n",
       "    <tr>\n",
       "      <th>...</th>\n",
       "      <td>...</td>\n",
       "      <td>...</td>\n",
       "      <td>...</td>\n",
       "      <td>...</td>\n",
       "      <td>...</td>\n",
       "    </tr>\n",
       "    <tr>\n",
       "      <th>9041</th>\n",
       "      <td>Europe Brent Spot Price FOB, Daily</td>\n",
       "      <td>19870526</td>\n",
       "      <td>D</td>\n",
       "      <td>18.63</td>\n",
       "      <td>Dollars per Barrel</td>\n",
       "    </tr>\n",
       "    <tr>\n",
       "      <th>9042</th>\n",
       "      <td>Europe Brent Spot Price FOB, Daily</td>\n",
       "      <td>19870525</td>\n",
       "      <td>D</td>\n",
       "      <td>18.60</td>\n",
       "      <td>Dollars per Barrel</td>\n",
       "    </tr>\n",
       "    <tr>\n",
       "      <th>9043</th>\n",
       "      <td>Europe Brent Spot Price FOB, Daily</td>\n",
       "      <td>19870522</td>\n",
       "      <td>D</td>\n",
       "      <td>18.55</td>\n",
       "      <td>Dollars per Barrel</td>\n",
       "    </tr>\n",
       "    <tr>\n",
       "      <th>9044</th>\n",
       "      <td>Europe Brent Spot Price FOB, Daily</td>\n",
       "      <td>19870521</td>\n",
       "      <td>D</td>\n",
       "      <td>18.45</td>\n",
       "      <td>Dollars per Barrel</td>\n",
       "    </tr>\n",
       "    <tr>\n",
       "      <th>9045</th>\n",
       "      <td>Europe Brent Spot Price FOB, Daily</td>\n",
       "      <td>19870520</td>\n",
       "      <td>D</td>\n",
       "      <td>18.63</td>\n",
       "      <td>Dollars per Barrel</td>\n",
       "    </tr>\n",
       "  </tbody>\n",
       "</table>\n",
       "<p>9046 rows × 5 columns</p>\n",
       "</div>"
      ],
      "text/plain": [
       "                             Series Name    Period Frequency  Value  \\\n",
       "0     Europe Brent Spot Price FOB, Daily  20221219         D  81.66   \n",
       "1     Europe Brent Spot Price FOB, Daily  20221216         D  80.20   \n",
       "2     Europe Brent Spot Price FOB, Daily  20221215         D  82.34   \n",
       "3     Europe Brent Spot Price FOB, Daily  20221214         D  83.33   \n",
       "4     Europe Brent Spot Price FOB, Daily  20221212         D  78.00   \n",
       "...                                  ...       ...       ...    ...   \n",
       "9041  Europe Brent Spot Price FOB, Daily  19870526         D  18.63   \n",
       "9042  Europe Brent Spot Price FOB, Daily  19870525         D  18.60   \n",
       "9043  Europe Brent Spot Price FOB, Daily  19870522         D  18.55   \n",
       "9044  Europe Brent Spot Price FOB, Daily  19870521         D  18.45   \n",
       "9045  Europe Brent Spot Price FOB, Daily  19870520         D  18.63   \n",
       "\n",
       "                   Units  \n",
       "0     Dollars per Barrel  \n",
       "1     Dollars per Barrel  \n",
       "2     Dollars per Barrel  \n",
       "3     Dollars per Barrel  \n",
       "4     Dollars per Barrel  \n",
       "...                  ...  \n",
       "9041  Dollars per Barrel  \n",
       "9042  Dollars per Barrel  \n",
       "9043  Dollars per Barrel  \n",
       "9044  Dollars per Barrel  \n",
       "9045  Dollars per Barrel  \n",
       "\n",
       "[9046 rows x 5 columns]"
      ]
     },
     "execution_count": 6,
     "metadata": {},
     "output_type": "execute_result"
    }
   ],
   "source": [
    "df"
   ]
  },
  {
   "cell_type": "code",
   "execution_count": 7,
   "metadata": {},
   "outputs": [
    {
     "data": {
      "text/html": [
       "<div>\n",
       "<style scoped>\n",
       "    .dataframe tbody tr th:only-of-type {\n",
       "        vertical-align: middle;\n",
       "    }\n",
       "\n",
       "    .dataframe tbody tr th {\n",
       "        vertical-align: top;\n",
       "    }\n",
       "\n",
       "    .dataframe thead th {\n",
       "        text-align: right;\n",
       "    }\n",
       "</style>\n",
       "<table border=\"1\" class=\"dataframe\">\n",
       "  <thead>\n",
       "    <tr style=\"text-align: right;\">\n",
       "      <th></th>\n",
       "      <th>Series Name</th>\n",
       "      <th>Period</th>\n",
       "      <th>Frequency</th>\n",
       "      <th>Value</th>\n",
       "      <th>Units</th>\n",
       "    </tr>\n",
       "  </thead>\n",
       "  <tbody>\n",
       "    <tr>\n",
       "      <th>0</th>\n",
       "      <td>Europe Brent Spot Price FOB, Daily</td>\n",
       "      <td>20221219</td>\n",
       "      <td>D</td>\n",
       "      <td>81.66</td>\n",
       "      <td>Dollars per Barrel</td>\n",
       "    </tr>\n",
       "    <tr>\n",
       "      <th>1</th>\n",
       "      <td>Europe Brent Spot Price FOB, Daily</td>\n",
       "      <td>20221216</td>\n",
       "      <td>D</td>\n",
       "      <td>80.20</td>\n",
       "      <td>Dollars per Barrel</td>\n",
       "    </tr>\n",
       "    <tr>\n",
       "      <th>2</th>\n",
       "      <td>Europe Brent Spot Price FOB, Daily</td>\n",
       "      <td>20221215</td>\n",
       "      <td>D</td>\n",
       "      <td>82.34</td>\n",
       "      <td>Dollars per Barrel</td>\n",
       "    </tr>\n",
       "    <tr>\n",
       "      <th>3</th>\n",
       "      <td>Europe Brent Spot Price FOB, Daily</td>\n",
       "      <td>20221214</td>\n",
       "      <td>D</td>\n",
       "      <td>83.33</td>\n",
       "      <td>Dollars per Barrel</td>\n",
       "    </tr>\n",
       "    <tr>\n",
       "      <th>4</th>\n",
       "      <td>Europe Brent Spot Price FOB, Daily</td>\n",
       "      <td>20221212</td>\n",
       "      <td>D</td>\n",
       "      <td>78.00</td>\n",
       "      <td>Dollars per Barrel</td>\n",
       "    </tr>\n",
       "  </tbody>\n",
       "</table>\n",
       "</div>"
      ],
      "text/plain": [
       "                          Series Name    Period Frequency  Value  \\\n",
       "0  Europe Brent Spot Price FOB, Daily  20221219         D  81.66   \n",
       "1  Europe Brent Spot Price FOB, Daily  20221216         D  80.20   \n",
       "2  Europe Brent Spot Price FOB, Daily  20221215         D  82.34   \n",
       "3  Europe Brent Spot Price FOB, Daily  20221214         D  83.33   \n",
       "4  Europe Brent Spot Price FOB, Daily  20221212         D  78.00   \n",
       "\n",
       "                Units  \n",
       "0  Dollars per Barrel  \n",
       "1  Dollars per Barrel  \n",
       "2  Dollars per Barrel  \n",
       "3  Dollars per Barrel  \n",
       "4  Dollars per Barrel  "
      ]
     },
     "execution_count": 7,
     "metadata": {},
     "output_type": "execute_result"
    }
   ],
   "source": [
    "df.head()"
   ]
  },
  {
   "cell_type": "code",
   "execution_count": 8,
   "metadata": {},
   "outputs": [],
   "source": [
    "#Just taking time and crude price\n",
    "df = df[['Period','Value']]"
   ]
  },
  {
   "cell_type": "code",
   "execution_count": 9,
   "metadata": {},
   "outputs": [
    {
     "data": {
      "text/html": [
       "<div>\n",
       "<style scoped>\n",
       "    .dataframe tbody tr th:only-of-type {\n",
       "        vertical-align: middle;\n",
       "    }\n",
       "\n",
       "    .dataframe tbody tr th {\n",
       "        vertical-align: top;\n",
       "    }\n",
       "\n",
       "    .dataframe thead th {\n",
       "        text-align: right;\n",
       "    }\n",
       "</style>\n",
       "<table border=\"1\" class=\"dataframe\">\n",
       "  <thead>\n",
       "    <tr style=\"text-align: right;\">\n",
       "      <th></th>\n",
       "      <th>Period</th>\n",
       "      <th>Value</th>\n",
       "    </tr>\n",
       "  </thead>\n",
       "  <tbody>\n",
       "    <tr>\n",
       "      <th>0</th>\n",
       "      <td>20221219</td>\n",
       "      <td>81.66</td>\n",
       "    </tr>\n",
       "    <tr>\n",
       "      <th>1</th>\n",
       "      <td>20221216</td>\n",
       "      <td>80.20</td>\n",
       "    </tr>\n",
       "    <tr>\n",
       "      <th>2</th>\n",
       "      <td>20221215</td>\n",
       "      <td>82.34</td>\n",
       "    </tr>\n",
       "    <tr>\n",
       "      <th>3</th>\n",
       "      <td>20221214</td>\n",
       "      <td>83.33</td>\n",
       "    </tr>\n",
       "    <tr>\n",
       "      <th>4</th>\n",
       "      <td>20221212</td>\n",
       "      <td>78.00</td>\n",
       "    </tr>\n",
       "    <tr>\n",
       "      <th>...</th>\n",
       "      <td>...</td>\n",
       "      <td>...</td>\n",
       "    </tr>\n",
       "    <tr>\n",
       "      <th>9041</th>\n",
       "      <td>19870526</td>\n",
       "      <td>18.63</td>\n",
       "    </tr>\n",
       "    <tr>\n",
       "      <th>9042</th>\n",
       "      <td>19870525</td>\n",
       "      <td>18.60</td>\n",
       "    </tr>\n",
       "    <tr>\n",
       "      <th>9043</th>\n",
       "      <td>19870522</td>\n",
       "      <td>18.55</td>\n",
       "    </tr>\n",
       "    <tr>\n",
       "      <th>9044</th>\n",
       "      <td>19870521</td>\n",
       "      <td>18.45</td>\n",
       "    </tr>\n",
       "    <tr>\n",
       "      <th>9045</th>\n",
       "      <td>19870520</td>\n",
       "      <td>18.63</td>\n",
       "    </tr>\n",
       "  </tbody>\n",
       "</table>\n",
       "<p>9046 rows × 2 columns</p>\n",
       "</div>"
      ],
      "text/plain": [
       "        Period  Value\n",
       "0     20221219  81.66\n",
       "1     20221216  80.20\n",
       "2     20221215  82.34\n",
       "3     20221214  83.33\n",
       "4     20221212  78.00\n",
       "...        ...    ...\n",
       "9041  19870526  18.63\n",
       "9042  19870525  18.60\n",
       "9043  19870522  18.55\n",
       "9044  19870521  18.45\n",
       "9045  19870520  18.63\n",
       "\n",
       "[9046 rows x 2 columns]"
      ]
     },
     "execution_count": 9,
     "metadata": {},
     "output_type": "execute_result"
    }
   ],
   "source": [
    "df"
   ]
  },
  {
   "cell_type": "code",
   "execution_count": 10,
   "metadata": {},
   "outputs": [
    {
     "name": "stderr",
     "output_type": "stream",
     "text": [
      "C:\\Users\\acer\\Anaconda3\\lib\\site-packages\\ipykernel_launcher.py:2: SettingWithCopyWarning: \n",
      "A value is trying to be set on a copy of a slice from a DataFrame.\n",
      "Try using .loc[row_indexer,col_indexer] = value instead\n",
      "\n",
      "See the caveats in the documentation: https://pandas.pydata.org/pandas-docs/stable/user_guide/indexing.html#returning-a-view-versus-a-copy\n",
      "  \n"
     ]
    }
   ],
   "source": [
    "#Converting period to datetime\n",
    "df['Date'] = pd.to_datetime(df['Period'], format='%Y%m%d')"
   ]
  },
  {
   "cell_type": "code",
   "execution_count": 11,
   "metadata": {},
   "outputs": [
    {
     "data": {
      "text/html": [
       "<div>\n",
       "<style scoped>\n",
       "    .dataframe tbody tr th:only-of-type {\n",
       "        vertical-align: middle;\n",
       "    }\n",
       "\n",
       "    .dataframe tbody tr th {\n",
       "        vertical-align: top;\n",
       "    }\n",
       "\n",
       "    .dataframe thead th {\n",
       "        text-align: right;\n",
       "    }\n",
       "</style>\n",
       "<table border=\"1\" class=\"dataframe\">\n",
       "  <thead>\n",
       "    <tr style=\"text-align: right;\">\n",
       "      <th></th>\n",
       "      <th>Period</th>\n",
       "      <th>Value</th>\n",
       "      <th>Date</th>\n",
       "    </tr>\n",
       "  </thead>\n",
       "  <tbody>\n",
       "    <tr>\n",
       "      <th>0</th>\n",
       "      <td>20221219</td>\n",
       "      <td>81.66</td>\n",
       "      <td>2022-12-19</td>\n",
       "    </tr>\n",
       "    <tr>\n",
       "      <th>1</th>\n",
       "      <td>20221216</td>\n",
       "      <td>80.20</td>\n",
       "      <td>2022-12-16</td>\n",
       "    </tr>\n",
       "    <tr>\n",
       "      <th>2</th>\n",
       "      <td>20221215</td>\n",
       "      <td>82.34</td>\n",
       "      <td>2022-12-15</td>\n",
       "    </tr>\n",
       "    <tr>\n",
       "      <th>3</th>\n",
       "      <td>20221214</td>\n",
       "      <td>83.33</td>\n",
       "      <td>2022-12-14</td>\n",
       "    </tr>\n",
       "    <tr>\n",
       "      <th>4</th>\n",
       "      <td>20221212</td>\n",
       "      <td>78.00</td>\n",
       "      <td>2022-12-12</td>\n",
       "    </tr>\n",
       "    <tr>\n",
       "      <th>...</th>\n",
       "      <td>...</td>\n",
       "      <td>...</td>\n",
       "      <td>...</td>\n",
       "    </tr>\n",
       "    <tr>\n",
       "      <th>9041</th>\n",
       "      <td>19870526</td>\n",
       "      <td>18.63</td>\n",
       "      <td>1987-05-26</td>\n",
       "    </tr>\n",
       "    <tr>\n",
       "      <th>9042</th>\n",
       "      <td>19870525</td>\n",
       "      <td>18.60</td>\n",
       "      <td>1987-05-25</td>\n",
       "    </tr>\n",
       "    <tr>\n",
       "      <th>9043</th>\n",
       "      <td>19870522</td>\n",
       "      <td>18.55</td>\n",
       "      <td>1987-05-22</td>\n",
       "    </tr>\n",
       "    <tr>\n",
       "      <th>9044</th>\n",
       "      <td>19870521</td>\n",
       "      <td>18.45</td>\n",
       "      <td>1987-05-21</td>\n",
       "    </tr>\n",
       "    <tr>\n",
       "      <th>9045</th>\n",
       "      <td>19870520</td>\n",
       "      <td>18.63</td>\n",
       "      <td>1987-05-20</td>\n",
       "    </tr>\n",
       "  </tbody>\n",
       "</table>\n",
       "<p>9046 rows × 3 columns</p>\n",
       "</div>"
      ],
      "text/plain": [
       "        Period  Value       Date\n",
       "0     20221219  81.66 2022-12-19\n",
       "1     20221216  80.20 2022-12-16\n",
       "2     20221215  82.34 2022-12-15\n",
       "3     20221214  83.33 2022-12-14\n",
       "4     20221212  78.00 2022-12-12\n",
       "...        ...    ...        ...\n",
       "9041  19870526  18.63 1987-05-26\n",
       "9042  19870525  18.60 1987-05-25\n",
       "9043  19870522  18.55 1987-05-22\n",
       "9044  19870521  18.45 1987-05-21\n",
       "9045  19870520  18.63 1987-05-20\n",
       "\n",
       "[9046 rows x 3 columns]"
      ]
     },
     "execution_count": 11,
     "metadata": {},
     "output_type": "execute_result"
    }
   ],
   "source": [
    "df"
   ]
  },
  {
   "cell_type": "code",
   "execution_count": 12,
   "metadata": {},
   "outputs": [],
   "source": [
    "df = df.drop('Period',axis = 1)"
   ]
  },
  {
   "cell_type": "code",
   "execution_count": 13,
   "metadata": {},
   "outputs": [],
   "source": [
    "df = df.set_index('Date')"
   ]
  },
  {
   "cell_type": "code",
   "execution_count": 14,
   "metadata": {},
   "outputs": [],
   "source": [
    "#Reversing\n",
    "df = df[-1::-1]"
   ]
  },
  {
   "cell_type": "code",
   "execution_count": 15,
   "metadata": {},
   "outputs": [
    {
     "data": {
      "text/html": [
       "<div>\n",
       "<style scoped>\n",
       "    .dataframe tbody tr th:only-of-type {\n",
       "        vertical-align: middle;\n",
       "    }\n",
       "\n",
       "    .dataframe tbody tr th {\n",
       "        vertical-align: top;\n",
       "    }\n",
       "\n",
       "    .dataframe thead th {\n",
       "        text-align: right;\n",
       "    }\n",
       "</style>\n",
       "<table border=\"1\" class=\"dataframe\">\n",
       "  <thead>\n",
       "    <tr style=\"text-align: right;\">\n",
       "      <th></th>\n",
       "      <th>Value</th>\n",
       "    </tr>\n",
       "    <tr>\n",
       "      <th>Date</th>\n",
       "      <th></th>\n",
       "    </tr>\n",
       "  </thead>\n",
       "  <tbody>\n",
       "    <tr>\n",
       "      <th>1987-05-20</th>\n",
       "      <td>18.63</td>\n",
       "    </tr>\n",
       "    <tr>\n",
       "      <th>1987-05-21</th>\n",
       "      <td>18.45</td>\n",
       "    </tr>\n",
       "    <tr>\n",
       "      <th>1987-05-22</th>\n",
       "      <td>18.55</td>\n",
       "    </tr>\n",
       "    <tr>\n",
       "      <th>1987-05-25</th>\n",
       "      <td>18.60</td>\n",
       "    </tr>\n",
       "    <tr>\n",
       "      <th>1987-05-26</th>\n",
       "      <td>18.63</td>\n",
       "    </tr>\n",
       "    <tr>\n",
       "      <th>...</th>\n",
       "      <td>...</td>\n",
       "    </tr>\n",
       "    <tr>\n",
       "      <th>2022-12-12</th>\n",
       "      <td>78.00</td>\n",
       "    </tr>\n",
       "    <tr>\n",
       "      <th>2022-12-14</th>\n",
       "      <td>83.33</td>\n",
       "    </tr>\n",
       "    <tr>\n",
       "      <th>2022-12-15</th>\n",
       "      <td>82.34</td>\n",
       "    </tr>\n",
       "    <tr>\n",
       "      <th>2022-12-16</th>\n",
       "      <td>80.20</td>\n",
       "    </tr>\n",
       "    <tr>\n",
       "      <th>2022-12-19</th>\n",
       "      <td>81.66</td>\n",
       "    </tr>\n",
       "  </tbody>\n",
       "</table>\n",
       "<p>9046 rows × 1 columns</p>\n",
       "</div>"
      ],
      "text/plain": [
       "            Value\n",
       "Date             \n",
       "1987-05-20  18.63\n",
       "1987-05-21  18.45\n",
       "1987-05-22  18.55\n",
       "1987-05-25  18.60\n",
       "1987-05-26  18.63\n",
       "...           ...\n",
       "2022-12-12  78.00\n",
       "2022-12-14  83.33\n",
       "2022-12-15  82.34\n",
       "2022-12-16  80.20\n",
       "2022-12-19  81.66\n",
       "\n",
       "[9046 rows x 1 columns]"
      ]
     },
     "execution_count": 15,
     "metadata": {},
     "output_type": "execute_result"
    }
   ],
   "source": [
    "df"
   ]
  },
  {
   "cell_type": "code",
   "execution_count": 16,
   "metadata": {},
   "outputs": [
    {
     "data": {
      "text/plain": [
       "<AxesSubplot:xlabel='Date'>"
      ]
     },
     "execution_count": 16,
     "metadata": {},
     "output_type": "execute_result"
    },
    {
     "data": {
      "image/png": "[encoded data removed]",
      "text/plain": [
       "<Figure size 1080x504 with 1 Axes>"
      ]
     },
     "metadata": {
      "needs_background": "light"
     },
     "output_type": "display_data"
    }
   ],
   "source": [
    "df.plot(figsize = (15,7))"
   ]
  },
  {
   "cell_type": "code",
   "execution_count": 17,
   "metadata": {},
   "outputs": [],
   "source": [
    "#Getting value of crude price\n",
    "df1 = df.reset_index()['Value']"
   ]
  },
  {
   "cell_type": "code",
   "execution_count": 18,
   "metadata": {},
   "outputs": [
    {
     "data": {
      "text/plain": [
       "0       18.63\n",
       "1       18.45\n",
       "2       18.55\n",
       "3       18.60\n",
       "4       18.63\n",
       "        ...  \n",
       "9041    78.00\n",
       "9042    83.33\n",
       "9043    82.34\n",
       "9044    80.20\n",
       "9045    81.66\n",
       "Name: Value, Length: 9046, dtype: float64"
      ]
     },
     "execution_count": 18,
     "metadata": {},
     "output_type": "execute_result"
    }
   ],
   "source": [
    "df1"
   ]
  },
  {
   "cell_type": "code",
   "execution_count": 19,
   "metadata": {},
   "outputs": [],
   "source": [
    "#Scaling data\n",
    "from sklearn.preprocessing import StandardScaler\n",
    "scaler = StandardScaler()\n",
    "df1 = scaler.fit_transform(np.array(df1).reshape(-1,1))"
   ]
  },
  {
   "cell_type": "code",
   "execution_count": 20,
   "metadata": {},
   "outputs": [
    {
     "data": {
      "text/plain": [
       "(9046, 1)"
      ]
     },
     "execution_count": 20,
     "metadata": {},
     "output_type": "execute_result"
    }
   ],
   "source": [
    "df1.shape"
   ]
  },
  {
   "cell_type": "code",
   "execution_count": 21,
   "metadata": {},
   "outputs": [
    {
     "data": {
      "text/plain": [
       "array([[-0.9096979 ],\n",
       "       [-0.91517448],\n",
       "       [-0.91213194],\n",
       "       ...,\n",
       "       [ 1.02870799],\n",
       "       [ 0.96359751],\n",
       "       [ 1.00801868]])"
      ]
     },
     "execution_count": 21,
     "metadata": {},
     "output_type": "execute_result"
    }
   ],
   "source": [
    "df1"
   ]
  },
  {
   "cell_type": "code",
   "execution_count": 22,
   "metadata": {},
   "outputs": [
    {
     "data": {
      "text/plain": [
       "[<matplotlib.lines.Line2D at 0x1bb97960988>]"
      ]
     },
     "execution_count": 22,
     "metadata": {},
     "output_type": "execute_result"
    },
    {
     "data": {
      "image/png": "[encoded data removed]",
      "text/plain": [
       "<Figure size 1080x504 with 1 Axes>"
      ]
     },
     "metadata": {
      "needs_background": "light"
     },
     "output_type": "display_data"
    }
   ],
   "source": [
    "plt.figure(figsize=(15,7))\n",
    "plt.plot(df.index,df1)"
   ]
  },
  {
   "cell_type": "code",
   "execution_count": 25,
   "metadata": {},
   "outputs": [
    {
     "name": "stdout",
     "output_type": "stream",
     "text": [
      " Enter window size: 100\n"
     ]
    }
   ],
   "source": [
    "w = int(input(' Enter window size: '))"
   ]
  },
  {
   "cell_type": "code",
   "execution_count": 26,
   "metadata": {},
   "outputs": [],
   "source": [
    "training_size = int(len(df1)*0.96)\n",
    "test_size = len(df1) - training_size\n",
    "train_data,test_data = df1[0:training_size+w,:],df1[training_size:len(df1),:]"
   ]
  },
  {
   "cell_type": "code",
   "execution_count": 27,
   "metadata": {},
   "outputs": [
    {
     "data": {
      "text/plain": [
       "((8784, 1), (362, 1))"
      ]
     },
     "execution_count": 27,
     "metadata": {},
     "output_type": "execute_result"
    }
   ],
   "source": [
    "train_data.shape, test_data.shape"
   ]
  },
  {
   "cell_type": "code",
   "execution_count": 28,
   "metadata": {},
   "outputs": [
    {
     "data": {
      "text/plain": [
       "[<matplotlib.lines.Line2D at 0x1bb97a72408>]"
      ]
     },
     "execution_count": 28,
     "metadata": {},
     "output_type": "execute_result"
    },
    {
     "data": {
      "image/png": "[encoded data removed]",
      "text/plain": [
       "<Figure size 432x288 with 1 Axes>"
      ]
     },
     "metadata": {
      "needs_background": "light"
     },
     "output_type": "display_data"
    }
   ],
   "source": [
    "plt.plot(df.index[:training_size+100],train_data)\n"
   ]
  },
  {
   "cell_type": "code",
   "execution_count": 29,
   "metadata": {},
   "outputs": [],
   "source": [
    "def create_dataset(dataset,time_step = 1):\n",
    "\n",
    "    dataX, dataY = [],[]\n",
    "\n",
    "    for i in range(len(dataset) - time_step):\n",
    "\n",
    "        a = dataset[i:(i+time_step),0]   #i = 0 then 0,1,2,3 will be x and y = 4 (if our time step is 4)\n",
    "\n",
    "        dataX.append(a)\n",
    "\n",
    "        dataY.append(dataset[i+time_step,0])\n",
    "\n",
    "    return np.array(dataX), np.array(dataY)"
   ]
  },
  {
   "cell_type": "code",
   "execution_count": 30,
   "metadata": {},
   "outputs": [],
   "source": [
    "time_step = w\n",
    "#Using 100 consecutive values predicting 101th value\n",
    "#f1-------f100 = X\n",
    "#f101 = y\n",
    "X_train, y_train = create_dataset(train_data,time_step)\n",
    "X_test, y_test = create_dataset(test_data,time_step)"
   ]
  },
  {
   "cell_type": "code",
   "execution_count": 31,
   "metadata": {},
   "outputs": [
    {
     "data": {
      "text/plain": [
       "((8684, 100), (262, 100))"
      ]
     },
     "execution_count": 31,
     "metadata": {},
     "output_type": "execute_result"
    }
   ],
   "source": [
    "X_train.shape,X_test.shape"
   ]
  },
  {
   "cell_type": "code",
   "execution_count": 32,
   "metadata": {},
   "outputs": [],
   "source": [
    "#Making data 3D\n",
    "X_train = X_train.reshape(X_train.shape[0],X_train.shape[1],1)\n",
    "X_test = X_test.reshape(X_test.shape[0],X_test.shape[1],1)"
   ]
  },
  {
   "cell_type": "code",
   "execution_count": 33,
   "metadata": {},
   "outputs": [
    {
     "data": {
      "text/plain": [
       "((8684, 100, 1), (262, 100, 1))"
      ]
     },
     "execution_count": 33,
     "metadata": {},
     "output_type": "execute_result"
    }
   ],
   "source": [
    "X_train.shape,X_test.shape"
   ]
  },
  {
   "cell_type": "code",
   "execution_count": 34,
   "metadata": {},
   "outputs": [
    {
     "data": {
      "text/plain": [
       "array([[[-0.9096979 ],\n",
       "        [-0.91517448],\n",
       "        [-0.91213194],\n",
       "        ...,\n",
       "        [-0.90513408],\n",
       "        [-0.91061067],\n",
       "        [-0.91121917]],\n",
       "\n",
       "       [[-0.91517448],\n",
       "        [-0.91213194],\n",
       "        [-0.91061067],\n",
       "        ...,\n",
       "        [-0.91061067],\n",
       "        [-0.91121917],\n",
       "        [-0.9096979 ]],\n",
       "\n",
       "       [[-0.91213194],\n",
       "        [-0.91061067],\n",
       "        [-0.9096979 ],\n",
       "        ...,\n",
       "        [-0.91121917],\n",
       "        [-0.9096979 ],\n",
       "        [-0.91061067]],\n",
       "\n",
       "       ...,\n",
       "\n",
       "       [[ 0.78895539],\n",
       "        [ 0.63287279],\n",
       "        [ 0.65417061],\n",
       "        ...,\n",
       "        [ 0.63895788],\n",
       "        [ 0.6702961 ],\n",
       "        [ 0.67485992]],\n",
       "\n",
       "       [[ 0.63287279],\n",
       "        [ 0.65417061],\n",
       "        [ 0.73053851],\n",
       "        ...,\n",
       "        [ 0.6702961 ],\n",
       "        [ 0.67485992],\n",
       "        [ 0.75609589]],\n",
       "\n",
       "       [[ 0.65417061],\n",
       "        [ 0.73053851],\n",
       "        [ 0.78256604],\n",
       "        ...,\n",
       "        [ 0.67485992],\n",
       "        [ 0.75609589],\n",
       "        [ 0.82181488]]])"
      ]
     },
     "execution_count": 34,
     "metadata": {},
     "output_type": "execute_result"
    }
   ],
   "source": [
    "X_train"
   ]
  },
  {
   "cell_type": "code",
   "execution_count": 35,
   "metadata": {},
   "outputs": [],
   "source": [
    "from tensorflow.keras.models import Sequential\n",
    "from tensorflow.keras.layers import Dense\n",
    "from tensorflow.keras.layers import LSTM"
   ]
  },
  {
   "cell_type": "code",
   "execution_count": 36,
   "metadata": {},
   "outputs": [],
   "source": [
    "model = Sequential() #sequential model\n",
    "model.add(LSTM(50,return_sequences = True, input_shape = (100,1))) # input shape of batch\n",
    "model.add(LSTM(50,return_sequences = True))\n",
    "model.add(LSTM(50))\n",
    "model.add(Dense(1))\n",
    "model.compile(loss = 'mean_squared_error', optimizer = 'adam')"
   ]
  },
  {
   "cell_type": "code",
   "execution_count": 37,
   "metadata": {},
   "outputs": [
    {
     "name": "stdout",
     "output_type": "stream",
     "text": [
      "Model: \"sequential\"\n",
      "_________________________________________________________________\n",
      "Layer (type)                 Output Shape              Param #   \n",
      "=================================================================\n",
      "lstm (LSTM)                  (None, 100, 50)           10400     \n",
      "_________________________________________________________________\n",
      "lstm_1 (LSTM)                (None, 100, 50)           20200     \n",
      "_________________________________________________________________\n",
      "lstm_2 (LSTM)                (None, 50)                20200     \n",
      "_________________________________________________________________\n",
      "dense (Dense)                (None, 1)                 51        \n",
      "=================================================================\n",
      "Total params: 50,851\n",
      "Trainable params: 50,851\n",
      "Non-trainable params: 0\n",
      "_________________________________________________________________\n"
     ]
    }
   ],
   "source": [
    "model.summary()"
   ]
  },
  {
   "cell_type": "code",
   "execution_count": 38,
   "metadata": {},
   "outputs": [
    {
     "name": "stdout",
     "output_type": "stream",
     "text": [
      "68/68 [==============================] - 28s 304ms/step - loss: 0.0879 - val_loss: 0.0454\n"
     ]
    },
    {
     "data": {
      "text/plain": [
       "<tensorflow.python.keras.callbacks.History at 0x1bba05989c8>"
      ]
     },
     "execution_count": 38,
     "metadata": {},
     "output_type": "execute_result"
    }
   ],
   "source": [
    "model.fit(X_train,y_train,validation_data = (X_test,y_test),epochs = 1,batch_size = 128, verbose =1)"
   ]
  },
  {
   "cell_type": "code",
   "execution_count": 39,
   "metadata": {},
   "outputs": [],
   "source": [
    "train_predict = model.predict(X_train)\n",
    "test_predict = model.predict(X_test)"
   ]
  },
  {
   "cell_type": "code",
   "execution_count": 40,
   "metadata": {},
   "outputs": [],
   "source": [
    "train_predict = scaler.inverse_transform(train_predict)\n",
    "test_predict = scaler.inverse_transform(test_predict)"
   ]
  },
  {
   "cell_type": "code",
   "execution_count": 41,
   "metadata": {},
   "outputs": [
    {
     "data": {
      "text/plain": [
       "56.66996757298207"
      ]
     },
     "execution_count": 41,
     "metadata": {},
     "output_type": "execute_result"
    }
   ],
   "source": [
    "import math\n",
    "from sklearn.metrics import mean_squared_error\n",
    "math.sqrt(mean_squared_error(y_train,train_predict))"
   ]
  },
  {
   "cell_type": "code",
   "execution_count": 42,
   "metadata": {},
   "outputs": [
    {
     "data": {
      "text/plain": [
       "99.27852205504783"
      ]
     },
     "execution_count": 42,
     "metadata": {},
     "output_type": "execute_result"
    }
   ],
   "source": [
    "math.sqrt(mean_squared_error(y_test,test_predict))"
   ]
  },
  {
   "cell_type": "code",
   "execution_count": 43,
   "metadata": {},
   "outputs": [
    {
     "data": {
      "text/plain": [
       "(8684, 1)"
      ]
     },
     "execution_count": 43,
     "metadata": {},
     "output_type": "execute_result"
    }
   ],
   "source": [
    "train_predict.shape"
   ]
  },
  {
   "cell_type": "code",
   "execution_count": 44,
   "metadata": {},
   "outputs": [
    {
     "data": {
      "text/plain": [
       "(262, 1)"
      ]
     },
     "execution_count": 44,
     "metadata": {},
     "output_type": "execute_result"
    }
   ],
   "source": [
    "test_predict.shape"
   ]
  },
  {
   "cell_type": "code",
   "execution_count": 45,
   "metadata": {},
   "outputs": [],
   "source": [
    "a = train_predict.reshape(train_predict.shape[0],)"
   ]
  },
  {
   "cell_type": "code",
   "execution_count": 46,
   "metadata": {},
   "outputs": [],
   "source": [
    "b = test_predict.reshape(test_predict.shape[0],)"
   ]
  },
  {
   "cell_type": "code",
   "execution_count": 47,
   "metadata": {},
   "outputs": [],
   "source": [
    "c = list(a)+list(b) # Total"
   ]
  },
  {
   "cell_type": "code",
   "execution_count": 48,
   "metadata": {},
   "outputs": [
    {
     "data": {
      "text/plain": [
       "8946"
      ]
     },
     "execution_count": 48,
     "metadata": {},
     "output_type": "execute_result"
    }
   ],
   "source": [
    "len(c)"
   ]
  },
  {
   "cell_type": "code",
   "execution_count": 49,
   "metadata": {},
   "outputs": [
    {
     "data": {
      "text/html": [
       "<div>\n",
       "<style scoped>\n",
       "    .dataframe tbody tr th:only-of-type {\n",
       "        vertical-align: middle;\n",
       "    }\n",
       "\n",
       "    .dataframe tbody tr th {\n",
       "        vertical-align: top;\n",
       "    }\n",
       "\n",
       "    .dataframe thead th {\n",
       "        text-align: right;\n",
       "    }\n",
       "</style>\n",
       "<table border=\"1\" class=\"dataframe\">\n",
       "  <thead>\n",
       "    <tr style=\"text-align: right;\">\n",
       "      <th></th>\n",
       "      <th>Value</th>\n",
       "    </tr>\n",
       "    <tr>\n",
       "      <th>Date</th>\n",
       "      <th></th>\n",
       "    </tr>\n",
       "  </thead>\n",
       "  <tbody>\n",
       "    <tr>\n",
       "      <th>1987-05-20</th>\n",
       "      <td>18.63</td>\n",
       "    </tr>\n",
       "    <tr>\n",
       "      <th>1987-05-21</th>\n",
       "      <td>18.45</td>\n",
       "    </tr>\n",
       "    <tr>\n",
       "      <th>1987-05-22</th>\n",
       "      <td>18.55</td>\n",
       "    </tr>\n",
       "    <tr>\n",
       "      <th>1987-05-25</th>\n",
       "      <td>18.60</td>\n",
       "    </tr>\n",
       "    <tr>\n",
       "      <th>1987-05-26</th>\n",
       "      <td>18.63</td>\n",
       "    </tr>\n",
       "    <tr>\n",
       "      <th>...</th>\n",
       "      <td>...</td>\n",
       "    </tr>\n",
       "    <tr>\n",
       "      <th>2022-12-12</th>\n",
       "      <td>78.00</td>\n",
       "    </tr>\n",
       "    <tr>\n",
       "      <th>2022-12-14</th>\n",
       "      <td>83.33</td>\n",
       "    </tr>\n",
       "    <tr>\n",
       "      <th>2022-12-15</th>\n",
       "      <td>82.34</td>\n",
       "    </tr>\n",
       "    <tr>\n",
       "      <th>2022-12-16</th>\n",
       "      <td>80.20</td>\n",
       "    </tr>\n",
       "    <tr>\n",
       "      <th>2022-12-19</th>\n",
       "      <td>81.66</td>\n",
       "    </tr>\n",
       "  </tbody>\n",
       "</table>\n",
       "<p>9046 rows × 1 columns</p>\n",
       "</div>"
      ],
      "text/plain": [
       "            Value\n",
       "Date             \n",
       "1987-05-20  18.63\n",
       "1987-05-21  18.45\n",
       "1987-05-22  18.55\n",
       "1987-05-25  18.60\n",
       "1987-05-26  18.63\n",
       "...           ...\n",
       "2022-12-12  78.00\n",
       "2022-12-14  83.33\n",
       "2022-12-15  82.34\n",
       "2022-12-16  80.20\n",
       "2022-12-19  81.66\n",
       "\n",
       "[9046 rows x 1 columns]"
      ]
     },
     "execution_count": 49,
     "metadata": {},
     "output_type": "execute_result"
    }
   ],
   "source": [
    "df"
   ]
  },
  {
   "cell_type": "code",
   "execution_count": null,
   "metadata": {},
   "outputs": [],
   "source": [
    "# exact difference of 100"
   ]
  },
  {
   "cell_type": "code",
   "execution_count": 50,
   "metadata": {},
   "outputs": [],
   "source": [
    "t = []\n",
    "for i in range(100):\n",
    "    t.append(np.NaN)"
   ]
  },
  {
   "cell_type": "code",
   "execution_count": 51,
   "metadata": {},
   "outputs": [],
   "source": [
    "d = t+c"
   ]
  },
  {
   "cell_type": "code",
   "execution_count": 52,
   "metadata": {},
   "outputs": [
    {
     "data": {
      "text/plain": [
       "9046"
      ]
     },
     "execution_count": 52,
     "metadata": {},
     "output_type": "execute_result"
    }
   ],
   "source": [
    "len(d)"
   ]
  },
  {
   "cell_type": "code",
   "execution_count": 53,
   "metadata": {},
   "outputs": [],
   "source": [
    "df['Predicted Price'] = d"
   ]
  },
  {
   "cell_type": "code",
   "execution_count": 54,
   "metadata": {},
   "outputs": [
    {
     "data": {
      "text/html": [
       "<div>\n",
       "<style scoped>\n",
       "    .dataframe tbody tr th:only-of-type {\n",
       "        vertical-align: middle;\n",
       "    }\n",
       "\n",
       "    .dataframe tbody tr th {\n",
       "        vertical-align: top;\n",
       "    }\n",
       "\n",
       "    .dataframe thead th {\n",
       "        text-align: right;\n",
       "    }\n",
       "</style>\n",
       "<table border=\"1\" class=\"dataframe\">\n",
       "  <thead>\n",
       "    <tr style=\"text-align: right;\">\n",
       "      <th></th>\n",
       "      <th>Value</th>\n",
       "      <th>Predicted Price</th>\n",
       "    </tr>\n",
       "    <tr>\n",
       "      <th>Date</th>\n",
       "      <th></th>\n",
       "      <th></th>\n",
       "    </tr>\n",
       "  </thead>\n",
       "  <tbody>\n",
       "    <tr>\n",
       "      <th>1987-05-20</th>\n",
       "      <td>18.63</td>\n",
       "      <td>NaN</td>\n",
       "    </tr>\n",
       "    <tr>\n",
       "      <th>1987-05-21</th>\n",
       "      <td>18.45</td>\n",
       "      <td>NaN</td>\n",
       "    </tr>\n",
       "    <tr>\n",
       "      <th>1987-05-22</th>\n",
       "      <td>18.55</td>\n",
       "      <td>NaN</td>\n",
       "    </tr>\n",
       "    <tr>\n",
       "      <th>1987-05-25</th>\n",
       "      <td>18.60</td>\n",
       "      <td>NaN</td>\n",
       "    </tr>\n",
       "    <tr>\n",
       "      <th>1987-05-26</th>\n",
       "      <td>18.63</td>\n",
       "      <td>NaN</td>\n",
       "    </tr>\n",
       "    <tr>\n",
       "      <th>...</th>\n",
       "      <td>...</td>\n",
       "      <td>...</td>\n",
       "    </tr>\n",
       "    <tr>\n",
       "      <th>2022-12-12</th>\n",
       "      <td>78.00</td>\n",
       "      <td>85.462479</td>\n",
       "    </tr>\n",
       "    <tr>\n",
       "      <th>2022-12-14</th>\n",
       "      <td>83.33</td>\n",
       "      <td>84.565475</td>\n",
       "    </tr>\n",
       "    <tr>\n",
       "      <th>2022-12-15</th>\n",
       "      <td>82.34</td>\n",
       "      <td>83.748543</td>\n",
       "    </tr>\n",
       "    <tr>\n",
       "      <th>2022-12-16</th>\n",
       "      <td>80.20</td>\n",
       "      <td>83.042694</td>\n",
       "    </tr>\n",
       "    <tr>\n",
       "      <th>2022-12-19</th>\n",
       "      <td>81.66</td>\n",
       "      <td>82.437431</td>\n",
       "    </tr>\n",
       "  </tbody>\n",
       "</table>\n",
       "<p>9046 rows × 2 columns</p>\n",
       "</div>"
      ],
      "text/plain": [
       "            Value  Predicted Price\n",
       "Date                              \n",
       "1987-05-20  18.63              NaN\n",
       "1987-05-21  18.45              NaN\n",
       "1987-05-22  18.55              NaN\n",
       "1987-05-25  18.60              NaN\n",
       "1987-05-26  18.63              NaN\n",
       "...           ...              ...\n",
       "2022-12-12  78.00        85.462479\n",
       "2022-12-14  83.33        84.565475\n",
       "2022-12-15  82.34        83.748543\n",
       "2022-12-16  80.20        83.042694\n",
       "2022-12-19  81.66        82.437431\n",
       "\n",
       "[9046 rows x 2 columns]"
      ]
     },
     "execution_count": 54,
     "metadata": {},
     "output_type": "execute_result"
    }
   ],
   "source": [
    "df"
   ]
  },
  {
   "cell_type": "code",
   "execution_count": 55,
   "metadata": {},
   "outputs": [
    {
     "data": {
      "text/plain": [
       "<matplotlib.legend.Legend at 0x1bba0b6e588>"
      ]
     },
     "execution_count": 55,
     "metadata": {},
     "output_type": "execute_result"
    },
    {
     "data": {
      "image/png": "[encoded data removed]",
      "text/plain": [
       "<Figure size 1152x504 with 1 Axes>"
      ]
     },
     "metadata": {
      "needs_background": "light"
     },
     "output_type": "display_data"
    }
   ],
   "source": [
    "plt.figure(figsize = (16,7))\n",
    "plt.grid(True)\n",
    "plt.title('Crude price Forecasting Training and Validation')\n",
    "plt.plot(df.index,df['Value'],label = \"Original Value\",c = 'blue')\n",
    "plt.plot(df[:train_predict.shape[0]+w].index,df['Predicted Price'][:train_predict.shape[0]+w],label = \"Predicted Training Price\",c = 'red')\n",
    "plt.plot(df.index[train_predict.shape[0]+100:],df['Predicted Price'][train_predict.shape[0]+w:],label = \"Predicted Validating Price\", c = 'green')\n",
    "plt.axvline(df.index[train_predict.shape[0]+w], color='black',lw=3)\n",
    "\n",
    "plt.legend()"
   ]
  },
  {
   "cell_type": "markdown",
   "metadata": {},
   "source": [
    "## Forecaasting in future"
   ]
  },
  {
   "cell_type": "code",
   "execution_count": 56,
   "metadata": {},
   "outputs": [
    {
     "data": {
      "text/html": [
       "<div>\n",
       "<style scoped>\n",
       "    .dataframe tbody tr th:only-of-type {\n",
       "        vertical-align: middle;\n",
       "    }\n",
       "\n",
       "    .dataframe tbody tr th {\n",
       "        vertical-align: top;\n",
       "    }\n",
       "\n",
       "    .dataframe thead th {\n",
       "        text-align: right;\n",
       "    }\n",
       "</style>\n",
       "<table border=\"1\" class=\"dataframe\">\n",
       "  <thead>\n",
       "    <tr style=\"text-align: right;\">\n",
       "      <th></th>\n",
       "      <th>Value</th>\n",
       "      <th>Predicted Price</th>\n",
       "    </tr>\n",
       "    <tr>\n",
       "      <th>Date</th>\n",
       "      <th></th>\n",
       "      <th></th>\n",
       "    </tr>\n",
       "  </thead>\n",
       "  <tbody>\n",
       "    <tr>\n",
       "      <th>1987-05-20</th>\n",
       "      <td>18.63</td>\n",
       "      <td>NaN</td>\n",
       "    </tr>\n",
       "    <tr>\n",
       "      <th>1987-05-21</th>\n",
       "      <td>18.45</td>\n",
       "      <td>NaN</td>\n",
       "    </tr>\n",
       "    <tr>\n",
       "      <th>1987-05-22</th>\n",
       "      <td>18.55</td>\n",
       "      <td>NaN</td>\n",
       "    </tr>\n",
       "    <tr>\n",
       "      <th>1987-05-25</th>\n",
       "      <td>18.60</td>\n",
       "      <td>NaN</td>\n",
       "    </tr>\n",
       "    <tr>\n",
       "      <th>1987-05-26</th>\n",
       "      <td>18.63</td>\n",
       "      <td>NaN</td>\n",
       "    </tr>\n",
       "    <tr>\n",
       "      <th>...</th>\n",
       "      <td>...</td>\n",
       "      <td>...</td>\n",
       "    </tr>\n",
       "    <tr>\n",
       "      <th>2022-12-12</th>\n",
       "      <td>78.00</td>\n",
       "      <td>85.462479</td>\n",
       "    </tr>\n",
       "    <tr>\n",
       "      <th>2022-12-14</th>\n",
       "      <td>83.33</td>\n",
       "      <td>84.565475</td>\n",
       "    </tr>\n",
       "    <tr>\n",
       "      <th>2022-12-15</th>\n",
       "      <td>82.34</td>\n",
       "      <td>83.748543</td>\n",
       "    </tr>\n",
       "    <tr>\n",
       "      <th>2022-12-16</th>\n",
       "      <td>80.20</td>\n",
       "      <td>83.042694</td>\n",
       "    </tr>\n",
       "    <tr>\n",
       "      <th>2022-12-19</th>\n",
       "      <td>81.66</td>\n",
       "      <td>82.437431</td>\n",
       "    </tr>\n",
       "  </tbody>\n",
       "</table>\n",
       "<p>9046 rows × 2 columns</p>\n",
       "</div>"
      ],
      "text/plain": [
       "            Value  Predicted Price\n",
       "Date                              \n",
       "1987-05-20  18.63              NaN\n",
       "1987-05-21  18.45              NaN\n",
       "1987-05-22  18.55              NaN\n",
       "1987-05-25  18.60              NaN\n",
       "1987-05-26  18.63              NaN\n",
       "...           ...              ...\n",
       "2022-12-12  78.00        85.462479\n",
       "2022-12-14  83.33        84.565475\n",
       "2022-12-15  82.34        83.748543\n",
       "2022-12-16  80.20        83.042694\n",
       "2022-12-19  81.66        82.437431\n",
       "\n",
       "[9046 rows x 2 columns]"
      ]
     },
     "execution_count": 56,
     "metadata": {},
     "output_type": "execute_result"
    }
   ],
   "source": [
    "df"
   ]
  },
  {
   "cell_type": "code",
   "execution_count": 57,
   "metadata": {},
   "outputs": [],
   "source": [
    "ddf = df[100:]"
   ]
  },
  {
   "cell_type": "code",
   "execution_count": 58,
   "metadata": {},
   "outputs": [
    {
     "data": {
      "text/html": [
       "<div>\n",
       "<style scoped>\n",
       "    .dataframe tbody tr th:only-of-type {\n",
       "        vertical-align: middle;\n",
       "    }\n",
       "\n",
       "    .dataframe tbody tr th {\n",
       "        vertical-align: top;\n",
       "    }\n",
       "\n",
       "    .dataframe thead th {\n",
       "        text-align: right;\n",
       "    }\n",
       "</style>\n",
       "<table border=\"1\" class=\"dataframe\">\n",
       "  <thead>\n",
       "    <tr style=\"text-align: right;\">\n",
       "      <th></th>\n",
       "      <th>Value</th>\n",
       "      <th>Predicted Price</th>\n",
       "    </tr>\n",
       "    <tr>\n",
       "      <th>Date</th>\n",
       "      <th></th>\n",
       "      <th></th>\n",
       "    </tr>\n",
       "  </thead>\n",
       "  <tbody>\n",
       "    <tr>\n",
       "      <th>1987-10-08</th>\n",
       "      <td>18.63</td>\n",
       "      <td>18.590397</td>\n",
       "    </tr>\n",
       "    <tr>\n",
       "      <th>1987-10-09</th>\n",
       "      <td>18.60</td>\n",
       "      <td>18.606668</td>\n",
       "    </tr>\n",
       "    <tr>\n",
       "      <th>1987-10-12</th>\n",
       "      <td>18.55</td>\n",
       "      <td>18.621763</td>\n",
       "    </tr>\n",
       "    <tr>\n",
       "      <th>1987-10-13</th>\n",
       "      <td>18.55</td>\n",
       "      <td>18.635233</td>\n",
       "    </tr>\n",
       "    <tr>\n",
       "      <th>1987-10-14</th>\n",
       "      <td>18.68</td>\n",
       "      <td>18.646811</td>\n",
       "    </tr>\n",
       "    <tr>\n",
       "      <th>...</th>\n",
       "      <td>...</td>\n",
       "      <td>...</td>\n",
       "    </tr>\n",
       "    <tr>\n",
       "      <th>2022-12-12</th>\n",
       "      <td>78.00</td>\n",
       "      <td>85.462479</td>\n",
       "    </tr>\n",
       "    <tr>\n",
       "      <th>2022-12-14</th>\n",
       "      <td>83.33</td>\n",
       "      <td>84.565475</td>\n",
       "    </tr>\n",
       "    <tr>\n",
       "      <th>2022-12-15</th>\n",
       "      <td>82.34</td>\n",
       "      <td>83.748543</td>\n",
       "    </tr>\n",
       "    <tr>\n",
       "      <th>2022-12-16</th>\n",
       "      <td>80.20</td>\n",
       "      <td>83.042694</td>\n",
       "    </tr>\n",
       "    <tr>\n",
       "      <th>2022-12-19</th>\n",
       "      <td>81.66</td>\n",
       "      <td>82.437431</td>\n",
       "    </tr>\n",
       "  </tbody>\n",
       "</table>\n",
       "<p>8946 rows × 2 columns</p>\n",
       "</div>"
      ],
      "text/plain": [
       "            Value  Predicted Price\n",
       "Date                              \n",
       "1987-10-08  18.63        18.590397\n",
       "1987-10-09  18.60        18.606668\n",
       "1987-10-12  18.55        18.621763\n",
       "1987-10-13  18.55        18.635233\n",
       "1987-10-14  18.68        18.646811\n",
       "...           ...              ...\n",
       "2022-12-12  78.00        85.462479\n",
       "2022-12-14  83.33        84.565475\n",
       "2022-12-15  82.34        83.748543\n",
       "2022-12-16  80.20        83.042694\n",
       "2022-12-19  81.66        82.437431\n",
       "\n",
       "[8946 rows x 2 columns]"
      ]
     },
     "execution_count": 58,
     "metadata": {},
     "output_type": "execute_result"
    }
   ],
   "source": [
    "ddf"
   ]
  },
  {
   "cell_type": "code",
   "execution_count": 59,
   "metadata": {},
   "outputs": [
    {
     "data": {
      "text/plain": [
       "(362, 1)"
      ]
     },
     "execution_count": 59,
     "metadata": {},
     "output_type": "execute_result"
    }
   ],
   "source": [
    "test_data.shape"
   ]
  },
  {
   "cell_type": "code",
   "execution_count": 60,
   "metadata": {},
   "outputs": [
    {
     "data": {
      "text/plain": [
       "(1, 100)"
      ]
     },
     "execution_count": 60,
     "metadata": {},
     "output_type": "execute_result"
    }
   ],
   "source": [
    "# for next one day price, last 100 days data is needed\n",
    "x_input = test_data[-100:].reshape(1,-1)\n",
    "x_input.shape"
   ]
  },
  {
   "cell_type": "code",
   "execution_count": 61,
   "metadata": {},
   "outputs": [
    {
     "data": {
      "text/plain": [
       "array([[1.86053999, 1.91621858, 1.7513126 , 1.7640913 , 1.6213959 ,\n",
       "        1.5048664 , 1.57545346, 1.67129365, 1.68194256, 1.71997438,\n",
       "        1.78478061, 1.67859576, 1.51277702, 1.42484744, 1.4814388 ,\n",
       "        1.45496865, 1.45801119, 1.41571981, 1.55050458, 1.56206626,\n",
       "        1.52981527, 1.60040233, 1.54594077, 1.46105374, 1.32992002,\n",
       "        1.35578166, 1.39016242, 1.3052754 , 1.16531829, 1.20061182,\n",
       "        1.31288176, 1.36673482, 1.32383493, 1.34787104, 1.23986066,\n",
       "        1.24442448, 1.24442448, 1.25020532, 1.25750743, 1.27393718,\n",
       "        1.08803763, 1.03509734, 1.1391524 , 1.24807554, 1.24381597,\n",
       "        1.22829899, 1.2824563 , 1.3755582 , 1.39411773, 1.43367083,\n",
       "        1.53194506, 1.4787005 , 1.41906661, 1.36643057, 1.41876235,\n",
       "        1.32931151, 1.29340947, 1.24533725, 1.30253711, 1.30801369,\n",
       "        1.31714133, 1.30953496, 1.35091358, 1.38864115, 1.40294112,\n",
       "        1.362171  , 1.41754534, 1.44644952, 1.42271766, 1.5517216 ,\n",
       "        1.56206626, 1.47018138, 1.35456464, 1.39107519, 1.45557716,\n",
       "        1.37099439, 1.39259646, 1.34117744, 1.29219245, 1.22921175,\n",
       "        1.21430328, 1.22069263, 1.13702262, 1.12759073, 1.06095897,\n",
       "        1.06400152, 1.05548239, 1.12819924, 1.14858429, 1.15649491,\n",
       "        1.05974196, 0.95507838, 0.86958285, 0.8364191 , 0.84706801,\n",
       "        0.8966615 , 1.05882919, 1.02870799, 0.96359751, 1.00801868]])"
      ]
     },
     "execution_count": 61,
     "metadata": {},
     "output_type": "execute_result"
    }
   ],
   "source": [
    "x_input"
   ]
  },
  {
   "cell_type": "code",
   "execution_count": 62,
   "metadata": {},
   "outputs": [],
   "source": [
    "temp_input = list(x_input)\n"
   ]
  },
  {
   "cell_type": "code",
   "execution_count": 63,
   "metadata": {},
   "outputs": [
    {
     "data": {
      "text/plain": [
       "[array([1.86053999, 1.91621858, 1.7513126 , 1.7640913 , 1.6213959 ,\n",
       "        1.5048664 , 1.57545346, 1.67129365, 1.68194256, 1.71997438,\n",
       "        1.78478061, 1.67859576, 1.51277702, 1.42484744, 1.4814388 ,\n",
       "        1.45496865, 1.45801119, 1.41571981, 1.55050458, 1.56206626,\n",
       "        1.52981527, 1.60040233, 1.54594077, 1.46105374, 1.32992002,\n",
       "        1.35578166, 1.39016242, 1.3052754 , 1.16531829, 1.20061182,\n",
       "        1.31288176, 1.36673482, 1.32383493, 1.34787104, 1.23986066,\n",
       "        1.24442448, 1.24442448, 1.25020532, 1.25750743, 1.27393718,\n",
       "        1.08803763, 1.03509734, 1.1391524 , 1.24807554, 1.24381597,\n",
       "        1.22829899, 1.2824563 , 1.3755582 , 1.39411773, 1.43367083,\n",
       "        1.53194506, 1.4787005 , 1.41906661, 1.36643057, 1.41876235,\n",
       "        1.32931151, 1.29340947, 1.24533725, 1.30253711, 1.30801369,\n",
       "        1.31714133, 1.30953496, 1.35091358, 1.38864115, 1.40294112,\n",
       "        1.362171  , 1.41754534, 1.44644952, 1.42271766, 1.5517216 ,\n",
       "        1.56206626, 1.47018138, 1.35456464, 1.39107519, 1.45557716,\n",
       "        1.37099439, 1.39259646, 1.34117744, 1.29219245, 1.22921175,\n",
       "        1.21430328, 1.22069263, 1.13702262, 1.12759073, 1.06095897,\n",
       "        1.06400152, 1.05548239, 1.12819924, 1.14858429, 1.15649491,\n",
       "        1.05974196, 0.95507838, 0.86958285, 0.8364191 , 0.84706801,\n",
       "        0.8966615 , 1.05882919, 1.02870799, 0.96359751, 1.00801868])]"
      ]
     },
     "execution_count": 63,
     "metadata": {},
     "output_type": "execute_result"
    }
   ],
   "source": [
    "temp_input"
   ]
  },
  {
   "cell_type": "code",
   "execution_count": 64,
   "metadata": {},
   "outputs": [],
   "source": [
    "temp_input = temp_input[0].tolist()"
   ]
  },
  {
   "cell_type": "code",
   "execution_count": 65,
   "metadata": {},
   "outputs": [
    {
     "data": {
      "text/plain": [
       "[1.8605399949745078,\n",
       " 1.9162185820203577,\n",
       " 1.7513126029009551,\n",
       " 1.7640912950098389,\n",
       " 1.621395899793972,\n",
       " 1.5048663979439145,\n",
       " 1.5754534591167955,\n",
       " 1.671293649933422,\n",
       " 1.6819425600241587,\n",
       " 1.7199743817767883,\n",
       " 1.7847806060432692,\n",
       " 1.6785957597099272,\n",
       " 1.5127770168684618,\n",
       " 1.424847444976382,\n",
       " 1.481438795744295,\n",
       " 1.4549686478044646,\n",
       " 1.4580111935446751,\n",
       " 1.415719807755751,\n",
       " 1.5505045840470701,\n",
       " 1.5620662578598699,\n",
       " 1.5298152730136398,\n",
       " 1.6004023341865203,\n",
       " 1.545940765436755,\n",
       " 1.4610537392848852,\n",
       " 1.329920017881818,\n",
       " 1.3557816566736065,\n",
       " 1.3901624235379837,\n",
       " 1.3052753973861144,\n",
       " 1.165318293336437,\n",
       " 1.2006118239228771,\n",
       " 1.3128817617366404,\n",
       " 1.3667348213383639,\n",
       " 1.3238349264013978,\n",
       " 1.3478710377490595,\n",
       " 1.2398606639715912,\n",
       " 1.2444244825819069,\n",
       " 1.2444244825819069,\n",
       " 1.2502053194883065,\n",
       " 1.2575074292648114,\n",
       " 1.2739371762619476,\n",
       " 1.0880376315350937,\n",
       " 1.035097335655433,\n",
       " 1.1391523999706277,\n",
       " 1.248075537470159,\n",
       " 1.2438159734338645,\n",
       " 1.228298990158792,\n",
       " 1.2824563043345365,\n",
       " 1.3755582039849736,\n",
       " 1.394117733000257,\n",
       " 1.4336708276229921,\n",
       " 1.531945055031787,\n",
       " 1.4787005045781054,\n",
       " 1.4190666080699823,\n",
       " 1.3664305667643426,\n",
       " 1.418762353495961,\n",
       " 1.3293115087337761,\n",
       " 1.2934094689992939,\n",
       " 1.2453372463039696,\n",
       " 1.302537106219925,\n",
       " 1.3080136885523035,\n",
       " 1.3171413257729345,\n",
       " 1.3095349614224085,\n",
       " 1.35091358348927,\n",
       " 1.3886411506678784,\n",
       " 1.4029411156468672,\n",
       " 1.362171002728048,\n",
       " 1.4175453351998772,\n",
       " 1.4464495197318754,\n",
       " 1.4227176629582348,\n",
       " 1.5517216023431546,\n",
       " 1.5620662578598699,\n",
       " 1.4701813765055163,\n",
       " 1.3545646383775223,\n",
       " 1.3910751872600469,\n",
       " 1.455577156952507,\n",
       " 1.3709943853746585,\n",
       " 1.392596460130152,\n",
       " 1.3411774371205967,\n",
       " 1.2921924507032096,\n",
       " 1.2292117538808551,\n",
       " 1.214303279753824,\n",
       " 1.220692625808266,\n",
       " 1.1370226179524807,\n",
       " 1.1275907261578284,\n",
       " 1.0609589744472212,\n",
       " 1.0640015201874315,\n",
       " 1.0554823921148424,\n",
       " 1.1281992353058703,\n",
       " 1.14858429176528,\n",
       " 1.156494910689827,\n",
       " 1.059741956151137,\n",
       " 0.9550783826879001,\n",
       " 0.8695828473879885,\n",
       " 0.8364190988196953,\n",
       " 0.8470680089104319,\n",
       " 0.8966615044758609,\n",
       " 1.0588291924290738,\n",
       " 1.0287079896009912,\n",
       " 0.9635975107604892,\n",
       " 1.0080186785675604]"
      ]
     },
     "execution_count": 65,
     "metadata": {},
     "output_type": "execute_result"
    }
   ],
   "source": [
    "temp_input"
   ]
  },
  {
   "cell_type": "markdown",
   "metadata": {},
   "source": [
    "## Demonstrate predictions for next 30 days:"
   ]
  },
  {
   "cell_type": "markdown",
   "metadata": {},
   "source": [
    "- First time else loop will run, reshape is done and after that it passes to model and prediction is done for 101st day, after that this 101th day data is added in final output. And this 101 day data will be used in previous input list. Now the input list will have 101 elements so the if loop will run and the data for first day is dropped so that we can take data from day 2 to day 101 and predict data for day 102, in a similary way the loops will run for 30 days"
   ]
  },
  {
   "cell_type": "markdown",
   "metadata": {},
   "source": [
    "- for i = 0 (first loop in while), the else loop will run because 100 elements are present in temp_input. After adding data for 101 day from forecasting, the if loop will run and 1st day data will be excluded"
   ]
  },
  {
   "cell_type": "code",
   "execution_count": 66,
   "metadata": {},
   "outputs": [
    {
     "name": "stdout",
     "output_type": "stream",
     "text": [
      "[1.0168097]\n",
      "101\n",
      "1 day input [1.91621858 1.7513126  1.7640913  1.6213959  1.5048664  1.57545346\n",
      " 1.67129365 1.68194256 1.71997438 1.78478061 1.67859576 1.51277702\n",
      " 1.42484744 1.4814388  1.45496865 1.45801119 1.41571981 1.55050458\n",
      " 1.56206626 1.52981527 1.60040233 1.54594077 1.46105374 1.32992002\n",
      " 1.35578166 1.39016242 1.3052754  1.16531829 1.20061182 1.31288176\n",
      " 1.36673482 1.32383493 1.34787104 1.23986066 1.24442448 1.24442448\n",
      " 1.25020532 1.25750743 1.27393718 1.08803763 1.03509734 1.1391524\n",
      " 1.24807554 1.24381597 1.22829899 1.2824563  1.3755582  1.39411773\n",
      " 1.43367083 1.53194506 1.4787005  1.41906661 1.36643057 1.41876235\n",
      " 1.32931151 1.29340947 1.24533725 1.30253711 1.30801369 1.31714133\n",
      " 1.30953496 1.35091358 1.38864115 1.40294112 1.362171   1.41754534\n",
      " 1.44644952 1.42271766 1.5517216  1.56206626 1.47018138 1.35456464\n",
      " 1.39107519 1.45557716 1.37099439 1.39259646 1.34117744 1.29219245\n",
      " 1.22921175 1.21430328 1.22069263 1.13702262 1.12759073 1.06095897\n",
      " 1.06400152 1.05548239 1.12819924 1.14858429 1.15649491 1.05974196\n",
      " 0.95507838 0.86958285 0.8364191  0.84706801 0.8966615  1.05882919\n",
      " 1.02870799 0.96359751 1.00801868 1.0168097 ]\n",
      "1/1 [==============================] - 0s 24ms/step\n",
      "1 day output [[1.0055876]]\n",
      "2 day input [1.7513126  1.7640913  1.6213959  1.5048664  1.57545346 1.67129365\n",
      " 1.68194256 1.71997438 1.78478061 1.67859576 1.51277702 1.42484744\n",
      " 1.4814388  1.45496865 1.45801119 1.41571981 1.55050458 1.56206626\n",
      " 1.52981527 1.60040233 1.54594077 1.46105374 1.32992002 1.35578166\n",
      " 1.39016242 1.3052754  1.16531829 1.20061182 1.31288176 1.36673482\n",
      " 1.32383493 1.34787104 1.23986066 1.24442448 1.24442448 1.25020532\n",
      " 1.25750743 1.27393718 1.08803763 1.03509734 1.1391524  1.24807554\n",
      " 1.24381597 1.22829899 1.2824563  1.3755582  1.39411773 1.43367083\n",
      " 1.53194506 1.4787005  1.41906661 1.36643057 1.41876235 1.32931151\n",
      " 1.29340947 1.24533725 1.30253711 1.30801369 1.31714133 1.30953496\n",
      " 1.35091358 1.38864115 1.40294112 1.362171   1.41754534 1.44644952\n",
      " 1.42271766 1.5517216  1.56206626 1.47018138 1.35456464 1.39107519\n",
      " 1.45557716 1.37099439 1.39259646 1.34117744 1.29219245 1.22921175\n",
      " 1.21430328 1.22069263 1.13702262 1.12759073 1.06095897 1.06400152\n",
      " 1.05548239 1.12819924 1.14858429 1.15649491 1.05974196 0.95507838\n",
      " 0.86958285 0.8364191  0.84706801 0.8966615  1.05882919 1.02870799\n",
      " 0.96359751 1.00801868 1.0168097  1.00558758]\n",
      "1/1 [==============================] - 0s 34ms/step\n",
      "2 day output [[0.9976458]]\n",
      "3 day input [1.7640913  1.6213959  1.5048664  1.57545346 1.67129365 1.68194256\n",
      " 1.71997438 1.78478061 1.67859576 1.51277702 1.42484744 1.4814388\n",
      " 1.45496865 1.45801119 1.41571981 1.55050458 1.56206626 1.52981527\n",
      " 1.60040233 1.54594077 1.46105374 1.32992002 1.35578166 1.39016242\n",
      " 1.3052754  1.16531829 1.20061182 1.31288176 1.36673482 1.32383493\n",
      " 1.34787104 1.23986066 1.24442448 1.24442448 1.25020532 1.25750743\n",
      " 1.27393718 1.08803763 1.03509734 1.1391524  1.24807554 1.24381597\n",
      " 1.22829899 1.2824563  1.3755582  1.39411773 1.43367083 1.53194506\n",
      " 1.4787005  1.41906661 1.36643057 1.41876235 1.32931151 1.29340947\n",
      " 1.24533725 1.30253711 1.30801369 1.31714133 1.30953496 1.35091358\n",
      " 1.38864115 1.40294112 1.362171   1.41754534 1.44644952 1.42271766\n",
      " 1.5517216  1.56206626 1.47018138 1.35456464 1.39107519 1.45557716\n",
      " 1.37099439 1.39259646 1.34117744 1.29219245 1.22921175 1.21430328\n",
      " 1.22069263 1.13702262 1.12759073 1.06095897 1.06400152 1.05548239\n",
      " 1.12819924 1.14858429 1.15649491 1.05974196 0.95507838 0.86958285\n",
      " 0.8364191  0.84706801 0.8966615  1.05882919 1.02870799 0.96359751\n",
      " 1.00801868 1.0168097  1.00558758 0.9976458 ]\n",
      "1/1 [==============================] - 0s 31ms/step\n",
      "3 day output [[0.9924648]]\n",
      "4 day input [1.6213959  1.5048664  1.57545346 1.67129365 1.68194256 1.71997438\n",
      " 1.78478061 1.67859576 1.51277702 1.42484744 1.4814388  1.45496865\n",
      " 1.45801119 1.41571981 1.55050458 1.56206626 1.52981527 1.60040233\n",
      " 1.54594077 1.46105374 1.32992002 1.35578166 1.39016242 1.3052754\n",
      " 1.16531829 1.20061182 1.31288176 1.36673482 1.32383493 1.34787104\n",
      " 1.23986066 1.24442448 1.24442448 1.25020532 1.25750743 1.27393718\n",
      " 1.08803763 1.03509734 1.1391524  1.24807554 1.24381597 1.22829899\n",
      " 1.2824563  1.3755582  1.39411773 1.43367083 1.53194506 1.4787005\n",
      " 1.41906661 1.36643057 1.41876235 1.32931151 1.29340947 1.24533725\n",
      " 1.30253711 1.30801369 1.31714133 1.30953496 1.35091358 1.38864115\n",
      " 1.40294112 1.362171   1.41754534 1.44644952 1.42271766 1.5517216\n",
      " 1.56206626 1.47018138 1.35456464 1.39107519 1.45557716 1.37099439\n",
      " 1.39259646 1.34117744 1.29219245 1.22921175 1.21430328 1.22069263\n",
      " 1.13702262 1.12759073 1.06095897 1.06400152 1.05548239 1.12819924\n",
      " 1.14858429 1.15649491 1.05974196 0.95507838 0.86958285 0.8364191\n",
      " 0.84706801 0.8966615  1.05882919 1.02870799 0.96359751 1.00801868\n",
      " 1.0168097  1.00558758 0.9976458  0.99246478]\n",
      "1/1 [==============================] - 0s 68ms/step\n",
      "4 day output [[0.9894818]]\n",
      "5 day input [1.5048664  1.57545346 1.67129365 1.68194256 1.71997438 1.78478061\n",
      " 1.67859576 1.51277702 1.42484744 1.4814388  1.45496865 1.45801119\n",
      " 1.41571981 1.55050458 1.56206626 1.52981527 1.60040233 1.54594077\n",
      " 1.46105374 1.32992002 1.35578166 1.39016242 1.3052754  1.16531829\n",
      " 1.20061182 1.31288176 1.36673482 1.32383493 1.34787104 1.23986066\n",
      " 1.24442448 1.24442448 1.25020532 1.25750743 1.27393718 1.08803763\n",
      " 1.03509734 1.1391524  1.24807554 1.24381597 1.22829899 1.2824563\n",
      " 1.3755582  1.39411773 1.43367083 1.53194506 1.4787005  1.41906661\n",
      " 1.36643057 1.41876235 1.32931151 1.29340947 1.24533725 1.30253711\n",
      " 1.30801369 1.31714133 1.30953496 1.35091358 1.38864115 1.40294112\n",
      " 1.362171   1.41754534 1.44644952 1.42271766 1.5517216  1.56206626\n",
      " 1.47018138 1.35456464 1.39107519 1.45557716 1.37099439 1.39259646\n",
      " 1.34117744 1.29219245 1.22921175 1.21430328 1.22069263 1.13702262\n",
      " 1.12759073 1.06095897 1.06400152 1.05548239 1.12819924 1.14858429\n",
      " 1.15649491 1.05974196 0.95507838 0.86958285 0.8364191  0.84706801\n",
      " 0.8966615  1.05882919 1.02870799 0.96359751 1.00801868 1.0168097\n",
      " 1.00558758 0.9976458  0.99246478 0.98948181]\n",
      "1/1 [==============================] - 0s 77ms/step\n",
      "5 day output [[0.9881655]]\n",
      "6 day input [1.57545346 1.67129365 1.68194256 1.71997438 1.78478061 1.67859576\n",
      " 1.51277702 1.42484744 1.4814388  1.45496865 1.45801119 1.41571981\n",
      " 1.55050458 1.56206626 1.52981527 1.60040233 1.54594077 1.46105374\n",
      " 1.32992002 1.35578166 1.39016242 1.3052754  1.16531829 1.20061182\n",
      " 1.31288176 1.36673482 1.32383493 1.34787104 1.23986066 1.24442448\n",
      " 1.24442448 1.25020532 1.25750743 1.27393718 1.08803763 1.03509734\n",
      " 1.1391524  1.24807554 1.24381597 1.22829899 1.2824563  1.3755582\n",
      " 1.39411773 1.43367083 1.53194506 1.4787005  1.41906661 1.36643057\n",
      " 1.41876235 1.32931151 1.29340947 1.24533725 1.30253711 1.30801369\n",
      " 1.31714133 1.30953496 1.35091358 1.38864115 1.40294112 1.362171\n",
      " 1.41754534 1.44644952 1.42271766 1.5517216  1.56206626 1.47018138\n",
      " 1.35456464 1.39107519 1.45557716 1.37099439 1.39259646 1.34117744\n",
      " 1.29219245 1.22921175 1.21430328 1.22069263 1.13702262 1.12759073\n",
      " 1.06095897 1.06400152 1.05548239 1.12819924 1.14858429 1.15649491\n",
      " 1.05974196 0.95507838 0.86958285 0.8364191  0.84706801 0.8966615\n",
      " 1.05882919 1.02870799 0.96359751 1.00801868 1.0168097  1.00558758\n",
      " 0.9976458  0.99246478 0.98948181 0.9881655 ]\n",
      "1/1 [==============================] - 0s 93ms/step\n",
      "6 day output [[0.9880539]]\n",
      "7 day input [1.67129365 1.68194256 1.71997438 1.78478061 1.67859576 1.51277702\n",
      " 1.42484744 1.4814388  1.45496865 1.45801119 1.41571981 1.55050458\n",
      " 1.56206626 1.52981527 1.60040233 1.54594077 1.46105374 1.32992002\n",
      " 1.35578166 1.39016242 1.3052754  1.16531829 1.20061182 1.31288176\n",
      " 1.36673482 1.32383493 1.34787104 1.23986066 1.24442448 1.24442448\n",
      " 1.25020532 1.25750743 1.27393718 1.08803763 1.03509734 1.1391524\n",
      " 1.24807554 1.24381597 1.22829899 1.2824563  1.3755582  1.39411773\n",
      " 1.43367083 1.53194506 1.4787005  1.41906661 1.36643057 1.41876235\n",
      " 1.32931151 1.29340947 1.24533725 1.30253711 1.30801369 1.31714133\n",
      " 1.30953496 1.35091358 1.38864115 1.40294112 1.362171   1.41754534\n",
      " 1.44644952 1.42271766 1.5517216  1.56206626 1.47018138 1.35456464\n",
      " 1.39107519 1.45557716 1.37099439 1.39259646 1.34117744 1.29219245\n",
      " 1.22921175 1.21430328 1.22069263 1.13702262 1.12759073 1.06095897\n",
      " 1.06400152 1.05548239 1.12819924 1.14858429 1.15649491 1.05974196\n",
      " 0.95507838 0.86958285 0.8364191  0.84706801 0.8966615  1.05882919\n",
      " 1.02870799 0.96359751 1.00801868 1.0168097  1.00558758 0.9976458\n",
      " 0.99246478 0.98948181 0.9881655  0.98805392]\n"
     ]
    },
    {
     "name": "stdout",
     "output_type": "stream",
     "text": [
      "1/1 [==============================] - 0s 46ms/step\n",
      "7 day output [[0.9887715]]\n",
      "8 day input [1.68194256 1.71997438 1.78478061 1.67859576 1.51277702 1.42484744\n",
      " 1.4814388  1.45496865 1.45801119 1.41571981 1.55050458 1.56206626\n",
      " 1.52981527 1.60040233 1.54594077 1.46105374 1.32992002 1.35578166\n",
      " 1.39016242 1.3052754  1.16531829 1.20061182 1.31288176 1.36673482\n",
      " 1.32383493 1.34787104 1.23986066 1.24442448 1.24442448 1.25020532\n",
      " 1.25750743 1.27393718 1.08803763 1.03509734 1.1391524  1.24807554\n",
      " 1.24381597 1.22829899 1.2824563  1.3755582  1.39411773 1.43367083\n",
      " 1.53194506 1.4787005  1.41906661 1.36643057 1.41876235 1.32931151\n",
      " 1.29340947 1.24533725 1.30253711 1.30801369 1.31714133 1.30953496\n",
      " 1.35091358 1.38864115 1.40294112 1.362171   1.41754534 1.44644952\n",
      " 1.42271766 1.5517216  1.56206626 1.47018138 1.35456464 1.39107519\n",
      " 1.45557716 1.37099439 1.39259646 1.34117744 1.29219245 1.22921175\n",
      " 1.21430328 1.22069263 1.13702262 1.12759073 1.06095897 1.06400152\n",
      " 1.05548239 1.12819924 1.14858429 1.15649491 1.05974196 0.95507838\n",
      " 0.86958285 0.8364191  0.84706801 0.8966615  1.05882919 1.02870799\n",
      " 0.96359751 1.00801868 1.0168097  1.00558758 0.9976458  0.99246478\n",
      " 0.98948181 0.9881655  0.98805392 0.9887715 ]\n",
      "1/1 [==============================] - 0s 40ms/step\n",
      "8 day output [[0.9900302]]\n",
      "9 day input [1.71997438 1.78478061 1.67859576 1.51277702 1.42484744 1.4814388\n",
      " 1.45496865 1.45801119 1.41571981 1.55050458 1.56206626 1.52981527\n",
      " 1.60040233 1.54594077 1.46105374 1.32992002 1.35578166 1.39016242\n",
      " 1.3052754  1.16531829 1.20061182 1.31288176 1.36673482 1.32383493\n",
      " 1.34787104 1.23986066 1.24442448 1.24442448 1.25020532 1.25750743\n",
      " 1.27393718 1.08803763 1.03509734 1.1391524  1.24807554 1.24381597\n",
      " 1.22829899 1.2824563  1.3755582  1.39411773 1.43367083 1.53194506\n",
      " 1.4787005  1.41906661 1.36643057 1.41876235 1.32931151 1.29340947\n",
      " 1.24533725 1.30253711 1.30801369 1.31714133 1.30953496 1.35091358\n",
      " 1.38864115 1.40294112 1.362171   1.41754534 1.44644952 1.42271766\n",
      " 1.5517216  1.56206626 1.47018138 1.35456464 1.39107519 1.45557716\n",
      " 1.37099439 1.39259646 1.34117744 1.29219245 1.22921175 1.21430328\n",
      " 1.22069263 1.13702262 1.12759073 1.06095897 1.06400152 1.05548239\n",
      " 1.12819924 1.14858429 1.15649491 1.05974196 0.95507838 0.86958285\n",
      " 0.8364191  0.84706801 0.8966615  1.05882919 1.02870799 0.96359751\n",
      " 1.00801868 1.0168097  1.00558758 0.9976458  0.99246478 0.98948181\n",
      " 0.9881655  0.98805392 0.9887715  0.99003023]\n",
      "1/1 [==============================] - 0s 107ms/step\n",
      "9 day output [[0.99161947]]\n",
      "10 day input [1.78478061 1.67859576 1.51277702 1.42484744 1.4814388  1.45496865\n",
      " 1.45801119 1.41571981 1.55050458 1.56206626 1.52981527 1.60040233\n",
      " 1.54594077 1.46105374 1.32992002 1.35578166 1.39016242 1.3052754\n",
      " 1.16531829 1.20061182 1.31288176 1.36673482 1.32383493 1.34787104\n",
      " 1.23986066 1.24442448 1.24442448 1.25020532 1.25750743 1.27393718\n",
      " 1.08803763 1.03509734 1.1391524  1.24807554 1.24381597 1.22829899\n",
      " 1.2824563  1.3755582  1.39411773 1.43367083 1.53194506 1.4787005\n",
      " 1.41906661 1.36643057 1.41876235 1.32931151 1.29340947 1.24533725\n",
      " 1.30253711 1.30801369 1.31714133 1.30953496 1.35091358 1.38864115\n",
      " 1.40294112 1.362171   1.41754534 1.44644952 1.42271766 1.5517216\n",
      " 1.56206626 1.47018138 1.35456464 1.39107519 1.45557716 1.37099439\n",
      " 1.39259646 1.34117744 1.29219245 1.22921175 1.21430328 1.22069263\n",
      " 1.13702262 1.12759073 1.06095897 1.06400152 1.05548239 1.12819924\n",
      " 1.14858429 1.15649491 1.05974196 0.95507838 0.86958285 0.8364191\n",
      " 0.84706801 0.8966615  1.05882919 1.02870799 0.96359751 1.00801868\n",
      " 1.0168097  1.00558758 0.9976458  0.99246478 0.98948181 0.9881655\n",
      " 0.98805392 0.9887715  0.99003023 0.99161947]\n",
      "1/1 [==============================] - 0s 21ms/step\n",
      "10 day output [[0.9933942]]\n",
      "11 day input [1.67859576 1.51277702 1.42484744 1.4814388  1.45496865 1.45801119\n",
      " 1.41571981 1.55050458 1.56206626 1.52981527 1.60040233 1.54594077\n",
      " 1.46105374 1.32992002 1.35578166 1.39016242 1.3052754  1.16531829\n",
      " 1.20061182 1.31288176 1.36673482 1.32383493 1.34787104 1.23986066\n",
      " 1.24442448 1.24442448 1.25020532 1.25750743 1.27393718 1.08803763\n",
      " 1.03509734 1.1391524  1.24807554 1.24381597 1.22829899 1.2824563\n",
      " 1.3755582  1.39411773 1.43367083 1.53194506 1.4787005  1.41906661\n",
      " 1.36643057 1.41876235 1.32931151 1.29340947 1.24533725 1.30253711\n",
      " 1.30801369 1.31714133 1.30953496 1.35091358 1.38864115 1.40294112\n",
      " 1.362171   1.41754534 1.44644952 1.42271766 1.5517216  1.56206626\n",
      " 1.47018138 1.35456464 1.39107519 1.45557716 1.37099439 1.39259646\n",
      " 1.34117744 1.29219245 1.22921175 1.21430328 1.22069263 1.13702262\n",
      " 1.12759073 1.06095897 1.06400152 1.05548239 1.12819924 1.14858429\n",
      " 1.15649491 1.05974196 0.95507838 0.86958285 0.8364191  0.84706801\n",
      " 0.8966615  1.05882919 1.02870799 0.96359751 1.00801868 1.0168097\n",
      " 1.00558758 0.9976458  0.99246478 0.98948181 0.9881655  0.98805392\n",
      " 0.9887715  0.99003023 0.99161947 0.9933942 ]\n",
      "1/1 [==============================] - 0s 125ms/step\n",
      "11 day output [[0.9952599]]\n",
      "12 day input [1.51277702 1.42484744 1.4814388  1.45496865 1.45801119 1.41571981\n",
      " 1.55050458 1.56206626 1.52981527 1.60040233 1.54594077 1.46105374\n",
      " 1.32992002 1.35578166 1.39016242 1.3052754  1.16531829 1.20061182\n",
      " 1.31288176 1.36673482 1.32383493 1.34787104 1.23986066 1.24442448\n",
      " 1.24442448 1.25020532 1.25750743 1.27393718 1.08803763 1.03509734\n",
      " 1.1391524  1.24807554 1.24381597 1.22829899 1.2824563  1.3755582\n",
      " 1.39411773 1.43367083 1.53194506 1.4787005  1.41906661 1.36643057\n",
      " 1.41876235 1.32931151 1.29340947 1.24533725 1.30253711 1.30801369\n",
      " 1.31714133 1.30953496 1.35091358 1.38864115 1.40294112 1.362171\n",
      " 1.41754534 1.44644952 1.42271766 1.5517216  1.56206626 1.47018138\n",
      " 1.35456464 1.39107519 1.45557716 1.37099439 1.39259646 1.34117744\n",
      " 1.29219245 1.22921175 1.21430328 1.22069263 1.13702262 1.12759073\n",
      " 1.06095897 1.06400152 1.05548239 1.12819924 1.14858429 1.15649491\n",
      " 1.05974196 0.95507838 0.86958285 0.8364191  0.84706801 0.8966615\n",
      " 1.05882919 1.02870799 0.96359751 1.00801868 1.0168097  1.00558758\n",
      " 0.9976458  0.99246478 0.98948181 0.9881655  0.98805392 0.9887715\n",
      " 0.99003023 0.99161947 0.9933942  0.99525988]\n",
      "1/1 [==============================] - 0s 51ms/step\n",
      "12 day output [[0.99716043]]\n",
      "13 day input [1.42484744 1.4814388  1.45496865 1.45801119 1.41571981 1.55050458\n",
      " 1.56206626 1.52981527 1.60040233 1.54594077 1.46105374 1.32992002\n",
      " 1.35578166 1.39016242 1.3052754  1.16531829 1.20061182 1.31288176\n",
      " 1.36673482 1.32383493 1.34787104 1.23986066 1.24442448 1.24442448\n",
      " 1.25020532 1.25750743 1.27393718 1.08803763 1.03509734 1.1391524\n",
      " 1.24807554 1.24381597 1.22829899 1.2824563  1.3755582  1.39411773\n",
      " 1.43367083 1.53194506 1.4787005  1.41906661 1.36643057 1.41876235\n",
      " 1.32931151 1.29340947 1.24533725 1.30253711 1.30801369 1.31714133\n",
      " 1.30953496 1.35091358 1.38864115 1.40294112 1.362171   1.41754534\n",
      " 1.44644952 1.42271766 1.5517216  1.56206626 1.47018138 1.35456464\n",
      " 1.39107519 1.45557716 1.37099439 1.39259646 1.34117744 1.29219245\n",
      " 1.22921175 1.21430328 1.22069263 1.13702262 1.12759073 1.06095897\n",
      " 1.06400152 1.05548239 1.12819924 1.14858429 1.15649491 1.05974196\n",
      " 0.95507838 0.86958285 0.8364191  0.84706801 0.8966615  1.05882919\n",
      " 1.02870799 0.96359751 1.00801868 1.0168097  1.00558758 0.9976458\n",
      " 0.99246478 0.98948181 0.9881655  0.98805392 0.9887715  0.99003023\n",
      " 0.99161947 0.9933942  0.99525988 0.99716043]\n",
      "1/1 [==============================] - 0s 46ms/step\n",
      "13 day output [[0.99906546]]\n",
      "14 day input [1.4814388  1.45496865 1.45801119 1.41571981 1.55050458 1.56206626\n",
      " 1.52981527 1.60040233 1.54594077 1.46105374 1.32992002 1.35578166\n",
      " 1.39016242 1.3052754  1.16531829 1.20061182 1.31288176 1.36673482\n",
      " 1.32383493 1.34787104 1.23986066 1.24442448 1.24442448 1.25020532\n",
      " 1.25750743 1.27393718 1.08803763 1.03509734 1.1391524  1.24807554\n",
      " 1.24381597 1.22829899 1.2824563  1.3755582  1.39411773 1.43367083\n",
      " 1.53194506 1.4787005  1.41906661 1.36643057 1.41876235 1.32931151\n",
      " 1.29340947 1.24533725 1.30253711 1.30801369 1.31714133 1.30953496\n",
      " 1.35091358 1.38864115 1.40294112 1.362171   1.41754534 1.44644952\n",
      " 1.42271766 1.5517216  1.56206626 1.47018138 1.35456464 1.39107519\n",
      " 1.45557716 1.37099439 1.39259646 1.34117744 1.29219245 1.22921175\n",
      " 1.21430328 1.22069263 1.13702262 1.12759073 1.06095897 1.06400152\n",
      " 1.05548239 1.12819924 1.14858429 1.15649491 1.05974196 0.95507838\n",
      " 0.86958285 0.8364191  0.84706801 0.8966615  1.05882919 1.02870799\n",
      " 0.96359751 1.00801868 1.0168097  1.00558758 0.9976458  0.99246478\n",
      " 0.98948181 0.9881655  0.98805392 0.9887715  0.99003023 0.99161947\n",
      " 0.9933942  0.99525988 0.99716043 0.99906546]\n"
     ]
    },
    {
     "name": "stdout",
     "output_type": "stream",
     "text": [
      "1/1 [==============================] - 0s 57ms/step\n",
      "14 day output [[1.0009614]]\n",
      "15 day input [1.45496865 1.45801119 1.41571981 1.55050458 1.56206626 1.52981527\n",
      " 1.60040233 1.54594077 1.46105374 1.32992002 1.35578166 1.39016242\n",
      " 1.3052754  1.16531829 1.20061182 1.31288176 1.36673482 1.32383493\n",
      " 1.34787104 1.23986066 1.24442448 1.24442448 1.25020532 1.25750743\n",
      " 1.27393718 1.08803763 1.03509734 1.1391524  1.24807554 1.24381597\n",
      " 1.22829899 1.2824563  1.3755582  1.39411773 1.43367083 1.53194506\n",
      " 1.4787005  1.41906661 1.36643057 1.41876235 1.32931151 1.29340947\n",
      " 1.24533725 1.30253711 1.30801369 1.31714133 1.30953496 1.35091358\n",
      " 1.38864115 1.40294112 1.362171   1.41754534 1.44644952 1.42271766\n",
      " 1.5517216  1.56206626 1.47018138 1.35456464 1.39107519 1.45557716\n",
      " 1.37099439 1.39259646 1.34117744 1.29219245 1.22921175 1.21430328\n",
      " 1.22069263 1.13702262 1.12759073 1.06095897 1.06400152 1.05548239\n",
      " 1.12819924 1.14858429 1.15649491 1.05974196 0.95507838 0.86958285\n",
      " 0.8364191  0.84706801 0.8966615  1.05882919 1.02870799 0.96359751\n",
      " 1.00801868 1.0168097  1.00558758 0.9976458  0.99246478 0.98948181\n",
      " 0.9881655  0.98805392 0.9887715  0.99003023 0.99161947 0.9933942\n",
      " 0.99525988 0.99716043 0.99906546 1.00096142]\n",
      "1/1 [==============================] - 0s 26ms/step\n",
      "15 day output [[1.0028464]]\n",
      "16 day input [1.45801119 1.41571981 1.55050458 1.56206626 1.52981527 1.60040233\n",
      " 1.54594077 1.46105374 1.32992002 1.35578166 1.39016242 1.3052754\n",
      " 1.16531829 1.20061182 1.31288176 1.36673482 1.32383493 1.34787104\n",
      " 1.23986066 1.24442448 1.24442448 1.25020532 1.25750743 1.27393718\n",
      " 1.08803763 1.03509734 1.1391524  1.24807554 1.24381597 1.22829899\n",
      " 1.2824563  1.3755582  1.39411773 1.43367083 1.53194506 1.4787005\n",
      " 1.41906661 1.36643057 1.41876235 1.32931151 1.29340947 1.24533725\n",
      " 1.30253711 1.30801369 1.31714133 1.30953496 1.35091358 1.38864115\n",
      " 1.40294112 1.362171   1.41754534 1.44644952 1.42271766 1.5517216\n",
      " 1.56206626 1.47018138 1.35456464 1.39107519 1.45557716 1.37099439\n",
      " 1.39259646 1.34117744 1.29219245 1.22921175 1.21430328 1.22069263\n",
      " 1.13702262 1.12759073 1.06095897 1.06400152 1.05548239 1.12819924\n",
      " 1.14858429 1.15649491 1.05974196 0.95507838 0.86958285 0.8364191\n",
      " 0.84706801 0.8966615  1.05882919 1.02870799 0.96359751 1.00801868\n",
      " 1.0168097  1.00558758 0.9976458  0.99246478 0.98948181 0.9881655\n",
      " 0.98805392 0.9887715  0.99003023 0.99161947 0.9933942  0.99525988\n",
      " 0.99716043 0.99906546 1.00096142 1.00284636]\n",
      "1/1 [==============================] - 0s 52ms/step\n",
      "16 day output [[1.0047224]]\n",
      "17 day input [1.41571981 1.55050458 1.56206626 1.52981527 1.60040233 1.54594077\n",
      " 1.46105374 1.32992002 1.35578166 1.39016242 1.3052754  1.16531829\n",
      " 1.20061182 1.31288176 1.36673482 1.32383493 1.34787104 1.23986066\n",
      " 1.24442448 1.24442448 1.25020532 1.25750743 1.27393718 1.08803763\n",
      " 1.03509734 1.1391524  1.24807554 1.24381597 1.22829899 1.2824563\n",
      " 1.3755582  1.39411773 1.43367083 1.53194506 1.4787005  1.41906661\n",
      " 1.36643057 1.41876235 1.32931151 1.29340947 1.24533725 1.30253711\n",
      " 1.30801369 1.31714133 1.30953496 1.35091358 1.38864115 1.40294112\n",
      " 1.362171   1.41754534 1.44644952 1.42271766 1.5517216  1.56206626\n",
      " 1.47018138 1.35456464 1.39107519 1.45557716 1.37099439 1.39259646\n",
      " 1.34117744 1.29219245 1.22921175 1.21430328 1.22069263 1.13702262\n",
      " 1.12759073 1.06095897 1.06400152 1.05548239 1.12819924 1.14858429\n",
      " 1.15649491 1.05974196 0.95507838 0.86958285 0.8364191  0.84706801\n",
      " 0.8966615  1.05882919 1.02870799 0.96359751 1.00801868 1.0168097\n",
      " 1.00558758 0.9976458  0.99246478 0.98948181 0.9881655  0.98805392\n",
      " 0.9887715  0.99003023 0.99161947 0.9933942  0.99525988 0.99716043\n",
      " 0.99906546 1.00096142 1.00284636 1.00472236]\n",
      "1/1 [==============================] - 0s 34ms/step\n",
      "17 day output [[1.006595]]\n",
      "18 day input [1.55050458 1.56206626 1.52981527 1.60040233 1.54594077 1.46105374\n",
      " 1.32992002 1.35578166 1.39016242 1.3052754  1.16531829 1.20061182\n",
      " 1.31288176 1.36673482 1.32383493 1.34787104 1.23986066 1.24442448\n",
      " 1.24442448 1.25020532 1.25750743 1.27393718 1.08803763 1.03509734\n",
      " 1.1391524  1.24807554 1.24381597 1.22829899 1.2824563  1.3755582\n",
      " 1.39411773 1.43367083 1.53194506 1.4787005  1.41906661 1.36643057\n",
      " 1.41876235 1.32931151 1.29340947 1.24533725 1.30253711 1.30801369\n",
      " 1.31714133 1.30953496 1.35091358 1.38864115 1.40294112 1.362171\n",
      " 1.41754534 1.44644952 1.42271766 1.5517216  1.56206626 1.47018138\n",
      " 1.35456464 1.39107519 1.45557716 1.37099439 1.39259646 1.34117744\n",
      " 1.29219245 1.22921175 1.21430328 1.22069263 1.13702262 1.12759073\n",
      " 1.06095897 1.06400152 1.05548239 1.12819924 1.14858429 1.15649491\n",
      " 1.05974196 0.95507838 0.86958285 0.8364191  0.84706801 0.8966615\n",
      " 1.05882919 1.02870799 0.96359751 1.00801868 1.0168097  1.00558758\n",
      " 0.9976458  0.99246478 0.98948181 0.9881655  0.98805392 0.9887715\n",
      " 0.99003023 0.99161947 0.9933942  0.99525988 0.99716043 0.99906546\n",
      " 1.00096142 1.00284636 1.00472236 1.00659502]\n",
      "1/1 [==============================] - 0s 71ms/step\n",
      "18 day output [[1.008469]]\n",
      "19 day input [1.56206626 1.52981527 1.60040233 1.54594077 1.46105374 1.32992002\n",
      " 1.35578166 1.39016242 1.3052754  1.16531829 1.20061182 1.31288176\n",
      " 1.36673482 1.32383493 1.34787104 1.23986066 1.24442448 1.24442448\n",
      " 1.25020532 1.25750743 1.27393718 1.08803763 1.03509734 1.1391524\n",
      " 1.24807554 1.24381597 1.22829899 1.2824563  1.3755582  1.39411773\n",
      " 1.43367083 1.53194506 1.4787005  1.41906661 1.36643057 1.41876235\n",
      " 1.32931151 1.29340947 1.24533725 1.30253711 1.30801369 1.31714133\n",
      " 1.30953496 1.35091358 1.38864115 1.40294112 1.362171   1.41754534\n",
      " 1.44644952 1.42271766 1.5517216  1.56206626 1.47018138 1.35456464\n",
      " 1.39107519 1.45557716 1.37099439 1.39259646 1.34117744 1.29219245\n",
      " 1.22921175 1.21430328 1.22069263 1.13702262 1.12759073 1.06095897\n",
      " 1.06400152 1.05548239 1.12819924 1.14858429 1.15649491 1.05974196\n",
      " 0.95507838 0.86958285 0.8364191  0.84706801 0.8966615  1.05882919\n",
      " 1.02870799 0.96359751 1.00801868 1.0168097  1.00558758 0.9976458\n",
      " 0.99246478 0.98948181 0.9881655  0.98805392 0.9887715  0.99003023\n",
      " 0.99161947 0.9933942  0.99525988 0.99716043 0.99906546 1.00096142\n",
      " 1.00284636 1.00472236 1.00659502 1.00846899]\n",
      "1/1 [==============================] - 0s 44ms/step\n",
      "19 day output [[1.010349]]\n",
      "20 day input [1.52981527 1.60040233 1.54594077 1.46105374 1.32992002 1.35578166\n",
      " 1.39016242 1.3052754  1.16531829 1.20061182 1.31288176 1.36673482\n",
      " 1.32383493 1.34787104 1.23986066 1.24442448 1.24442448 1.25020532\n",
      " 1.25750743 1.27393718 1.08803763 1.03509734 1.1391524  1.24807554\n",
      " 1.24381597 1.22829899 1.2824563  1.3755582  1.39411773 1.43367083\n",
      " 1.53194506 1.4787005  1.41906661 1.36643057 1.41876235 1.32931151\n",
      " 1.29340947 1.24533725 1.30253711 1.30801369 1.31714133 1.30953496\n",
      " 1.35091358 1.38864115 1.40294112 1.362171   1.41754534 1.44644952\n",
      " 1.42271766 1.5517216  1.56206626 1.47018138 1.35456464 1.39107519\n",
      " 1.45557716 1.37099439 1.39259646 1.34117744 1.29219245 1.22921175\n",
      " 1.21430328 1.22069263 1.13702262 1.12759073 1.06095897 1.06400152\n",
      " 1.05548239 1.12819924 1.14858429 1.15649491 1.05974196 0.95507838\n",
      " 0.86958285 0.8364191  0.84706801 0.8966615  1.05882919 1.02870799\n",
      " 0.96359751 1.00801868 1.0168097  1.00558758 0.9976458  0.99246478\n",
      " 0.98948181 0.9881655  0.98805392 0.9887715  0.99003023 0.99161947\n",
      " 0.9933942  0.99525988 0.99716043 0.99906546 1.00096142 1.00284636\n",
      " 1.00472236 1.00659502 1.00846899 1.01034904]\n",
      "1/1 [==============================] - 0s 38ms/step\n",
      "20 day output [[1.0122385]]\n",
      "21 day input [1.60040233 1.54594077 1.46105374 1.32992002 1.35578166 1.39016242\n",
      " 1.3052754  1.16531829 1.20061182 1.31288176 1.36673482 1.32383493\n",
      " 1.34787104 1.23986066 1.24442448 1.24442448 1.25020532 1.25750743\n",
      " 1.27393718 1.08803763 1.03509734 1.1391524  1.24807554 1.24381597\n",
      " 1.22829899 1.2824563  1.3755582  1.39411773 1.43367083 1.53194506\n",
      " 1.4787005  1.41906661 1.36643057 1.41876235 1.32931151 1.29340947\n",
      " 1.24533725 1.30253711 1.30801369 1.31714133 1.30953496 1.35091358\n",
      " 1.38864115 1.40294112 1.362171   1.41754534 1.44644952 1.42271766\n",
      " 1.5517216  1.56206626 1.47018138 1.35456464 1.39107519 1.45557716\n",
      " 1.37099439 1.39259646 1.34117744 1.29219245 1.22921175 1.21430328\n",
      " 1.22069263 1.13702262 1.12759073 1.06095897 1.06400152 1.05548239\n",
      " 1.12819924 1.14858429 1.15649491 1.05974196 0.95507838 0.86958285\n",
      " 0.8364191  0.84706801 0.8966615  1.05882919 1.02870799 0.96359751\n",
      " 1.00801868 1.0168097  1.00558758 0.9976458  0.99246478 0.98948181\n",
      " 0.9881655  0.98805392 0.9887715  0.99003023 0.99161947 0.9933942\n",
      " 0.99525988 0.99716043 0.99906546 1.00096142 1.00284636 1.00472236\n",
      " 1.00659502 1.00846899 1.01034904 1.0122385 ]\n"
     ]
    },
    {
     "name": "stdout",
     "output_type": "stream",
     "text": [
      "1/1 [==============================] - 0s 40ms/step\n",
      "21 day output [[1.0141394]]\n",
      "22 day input [1.54594077 1.46105374 1.32992002 1.35578166 1.39016242 1.3052754\n",
      " 1.16531829 1.20061182 1.31288176 1.36673482 1.32383493 1.34787104\n",
      " 1.23986066 1.24442448 1.24442448 1.25020532 1.25750743 1.27393718\n",
      " 1.08803763 1.03509734 1.1391524  1.24807554 1.24381597 1.22829899\n",
      " 1.2824563  1.3755582  1.39411773 1.43367083 1.53194506 1.4787005\n",
      " 1.41906661 1.36643057 1.41876235 1.32931151 1.29340947 1.24533725\n",
      " 1.30253711 1.30801369 1.31714133 1.30953496 1.35091358 1.38864115\n",
      " 1.40294112 1.362171   1.41754534 1.44644952 1.42271766 1.5517216\n",
      " 1.56206626 1.47018138 1.35456464 1.39107519 1.45557716 1.37099439\n",
      " 1.39259646 1.34117744 1.29219245 1.22921175 1.21430328 1.22069263\n",
      " 1.13702262 1.12759073 1.06095897 1.06400152 1.05548239 1.12819924\n",
      " 1.14858429 1.15649491 1.05974196 0.95507838 0.86958285 0.8364191\n",
      " 0.84706801 0.8966615  1.05882919 1.02870799 0.96359751 1.00801868\n",
      " 1.0168097  1.00558758 0.9976458  0.99246478 0.98948181 0.9881655\n",
      " 0.98805392 0.9887715  0.99003023 0.99161947 0.9933942  0.99525988\n",
      " 0.99716043 0.99906546 1.00096142 1.00284636 1.00472236 1.00659502\n",
      " 1.00846899 1.01034904 1.0122385  1.01413941]\n",
      "1/1 [==============================] - 0s 40ms/step\n",
      "22 day output [[1.0160528]]\n",
      "23 day input [1.46105374 1.32992002 1.35578166 1.39016242 1.3052754  1.16531829\n",
      " 1.20061182 1.31288176 1.36673482 1.32383493 1.34787104 1.23986066\n",
      " 1.24442448 1.24442448 1.25020532 1.25750743 1.27393718 1.08803763\n",
      " 1.03509734 1.1391524  1.24807554 1.24381597 1.22829899 1.2824563\n",
      " 1.3755582  1.39411773 1.43367083 1.53194506 1.4787005  1.41906661\n",
      " 1.36643057 1.41876235 1.32931151 1.29340947 1.24533725 1.30253711\n",
      " 1.30801369 1.31714133 1.30953496 1.35091358 1.38864115 1.40294112\n",
      " 1.362171   1.41754534 1.44644952 1.42271766 1.5517216  1.56206626\n",
      " 1.47018138 1.35456464 1.39107519 1.45557716 1.37099439 1.39259646\n",
      " 1.34117744 1.29219245 1.22921175 1.21430328 1.22069263 1.13702262\n",
      " 1.12759073 1.06095897 1.06400152 1.05548239 1.12819924 1.14858429\n",
      " 1.15649491 1.05974196 0.95507838 0.86958285 0.8364191  0.84706801\n",
      " 0.8966615  1.05882919 1.02870799 0.96359751 1.00801868 1.0168097\n",
      " 1.00558758 0.9976458  0.99246478 0.98948181 0.9881655  0.98805392\n",
      " 0.9887715  0.99003023 0.99161947 0.9933942  0.99525988 0.99716043\n",
      " 0.99906546 1.00096142 1.00284636 1.00472236 1.00659502 1.00846899\n",
      " 1.01034904 1.0122385  1.01413941 1.01605284]\n",
      "1/1 [==============================] - 0s 60ms/step\n",
      "23 day output [[1.0179791]]\n",
      "24 day input [1.32992002 1.35578166 1.39016242 1.3052754  1.16531829 1.20061182\n",
      " 1.31288176 1.36673482 1.32383493 1.34787104 1.23986066 1.24442448\n",
      " 1.24442448 1.25020532 1.25750743 1.27393718 1.08803763 1.03509734\n",
      " 1.1391524  1.24807554 1.24381597 1.22829899 1.2824563  1.3755582\n",
      " 1.39411773 1.43367083 1.53194506 1.4787005  1.41906661 1.36643057\n",
      " 1.41876235 1.32931151 1.29340947 1.24533725 1.30253711 1.30801369\n",
      " 1.31714133 1.30953496 1.35091358 1.38864115 1.40294112 1.362171\n",
      " 1.41754534 1.44644952 1.42271766 1.5517216  1.56206626 1.47018138\n",
      " 1.35456464 1.39107519 1.45557716 1.37099439 1.39259646 1.34117744\n",
      " 1.29219245 1.22921175 1.21430328 1.22069263 1.13702262 1.12759073\n",
      " 1.06095897 1.06400152 1.05548239 1.12819924 1.14858429 1.15649491\n",
      " 1.05974196 0.95507838 0.86958285 0.8364191  0.84706801 0.8966615\n",
      " 1.05882919 1.02870799 0.96359751 1.00801868 1.0168097  1.00558758\n",
      " 0.9976458  0.99246478 0.98948181 0.9881655  0.98805392 0.9887715\n",
      " 0.99003023 0.99161947 0.9933942  0.99525988 0.99716043 0.99906546\n",
      " 1.00096142 1.00284636 1.00472236 1.00659502 1.00846899 1.01034904\n",
      " 1.0122385  1.01413941 1.01605284 1.01797915]\n",
      "1/1 [==============================] - 0s 66ms/step\n",
      "24 day output [[1.0199172]]\n",
      "25 day input [1.35578166 1.39016242 1.3052754  1.16531829 1.20061182 1.31288176\n",
      " 1.36673482 1.32383493 1.34787104 1.23986066 1.24442448 1.24442448\n",
      " 1.25020532 1.25750743 1.27393718 1.08803763 1.03509734 1.1391524\n",
      " 1.24807554 1.24381597 1.22829899 1.2824563  1.3755582  1.39411773\n",
      " 1.43367083 1.53194506 1.4787005  1.41906661 1.36643057 1.41876235\n",
      " 1.32931151 1.29340947 1.24533725 1.30253711 1.30801369 1.31714133\n",
      " 1.30953496 1.35091358 1.38864115 1.40294112 1.362171   1.41754534\n",
      " 1.44644952 1.42271766 1.5517216  1.56206626 1.47018138 1.35456464\n",
      " 1.39107519 1.45557716 1.37099439 1.39259646 1.34117744 1.29219245\n",
      " 1.22921175 1.21430328 1.22069263 1.13702262 1.12759073 1.06095897\n",
      " 1.06400152 1.05548239 1.12819924 1.14858429 1.15649491 1.05974196\n",
      " 0.95507838 0.86958285 0.8364191  0.84706801 0.8966615  1.05882919\n",
      " 1.02870799 0.96359751 1.00801868 1.0168097  1.00558758 0.9976458\n",
      " 0.99246478 0.98948181 0.9881655  0.98805392 0.9887715  0.99003023\n",
      " 0.99161947 0.9933942  0.99525988 0.99716043 0.99906546 1.00096142\n",
      " 1.00284636 1.00472236 1.00659502 1.00846899 1.01034904 1.0122385\n",
      " 1.01413941 1.01605284 1.01797915 1.01991725]\n",
      "1/1 [==============================] - 0s 31ms/step\n",
      "25 day output [[1.0218667]]\n",
      "26 day input [1.39016242 1.3052754  1.16531829 1.20061182 1.31288176 1.36673482\n",
      " 1.32383493 1.34787104 1.23986066 1.24442448 1.24442448 1.25020532\n",
      " 1.25750743 1.27393718 1.08803763 1.03509734 1.1391524  1.24807554\n",
      " 1.24381597 1.22829899 1.2824563  1.3755582  1.39411773 1.43367083\n",
      " 1.53194506 1.4787005  1.41906661 1.36643057 1.41876235 1.32931151\n",
      " 1.29340947 1.24533725 1.30253711 1.30801369 1.31714133 1.30953496\n",
      " 1.35091358 1.38864115 1.40294112 1.362171   1.41754534 1.44644952\n",
      " 1.42271766 1.5517216  1.56206626 1.47018138 1.35456464 1.39107519\n",
      " 1.45557716 1.37099439 1.39259646 1.34117744 1.29219245 1.22921175\n",
      " 1.21430328 1.22069263 1.13702262 1.12759073 1.06095897 1.06400152\n",
      " 1.05548239 1.12819924 1.14858429 1.15649491 1.05974196 0.95507838\n",
      " 0.86958285 0.8364191  0.84706801 0.8966615  1.05882919 1.02870799\n",
      " 0.96359751 1.00801868 1.0168097  1.00558758 0.9976458  0.99246478\n",
      " 0.98948181 0.9881655  0.98805392 0.9887715  0.99003023 0.99161947\n",
      " 0.9933942  0.99525988 0.99716043 0.99906546 1.00096142 1.00284636\n",
      " 1.00472236 1.00659502 1.00846899 1.01034904 1.0122385  1.01413941\n",
      " 1.01605284 1.01797915 1.01991725 1.02186668]\n",
      "1/1 [==============================] - 0s 79ms/step\n",
      "26 day output [[1.0238264]]\n",
      "27 day input [1.3052754  1.16531829 1.20061182 1.31288176 1.36673482 1.32383493\n",
      " 1.34787104 1.23986066 1.24442448 1.24442448 1.25020532 1.25750743\n",
      " 1.27393718 1.08803763 1.03509734 1.1391524  1.24807554 1.24381597\n",
      " 1.22829899 1.2824563  1.3755582  1.39411773 1.43367083 1.53194506\n",
      " 1.4787005  1.41906661 1.36643057 1.41876235 1.32931151 1.29340947\n",
      " 1.24533725 1.30253711 1.30801369 1.31714133 1.30953496 1.35091358\n",
      " 1.38864115 1.40294112 1.362171   1.41754534 1.44644952 1.42271766\n",
      " 1.5517216  1.56206626 1.47018138 1.35456464 1.39107519 1.45557716\n",
      " 1.37099439 1.39259646 1.34117744 1.29219245 1.22921175 1.21430328\n",
      " 1.22069263 1.13702262 1.12759073 1.06095897 1.06400152 1.05548239\n",
      " 1.12819924 1.14858429 1.15649491 1.05974196 0.95507838 0.86958285\n",
      " 0.8364191  0.84706801 0.8966615  1.05882919 1.02870799 0.96359751\n",
      " 1.00801868 1.0168097  1.00558758 0.9976458  0.99246478 0.98948181\n",
      " 0.9881655  0.98805392 0.9887715  0.99003023 0.99161947 0.9933942\n",
      " 0.99525988 0.99716043 0.99906546 1.00096142 1.00284636 1.00472236\n",
      " 1.00659502 1.00846899 1.01034904 1.0122385  1.01413941 1.01605284\n",
      " 1.01797915 1.01991725 1.02186668 1.02382636]\n",
      "1/1 [==============================] - 0s 77ms/step\n",
      "27 day output [[1.0257949]]\n",
      "28 day input [1.16531829 1.20061182 1.31288176 1.36673482 1.32383493 1.34787104\n",
      " 1.23986066 1.24442448 1.24442448 1.25020532 1.25750743 1.27393718\n",
      " 1.08803763 1.03509734 1.1391524  1.24807554 1.24381597 1.22829899\n",
      " 1.2824563  1.3755582  1.39411773 1.43367083 1.53194506 1.4787005\n",
      " 1.41906661 1.36643057 1.41876235 1.32931151 1.29340947 1.24533725\n",
      " 1.30253711 1.30801369 1.31714133 1.30953496 1.35091358 1.38864115\n",
      " 1.40294112 1.362171   1.41754534 1.44644952 1.42271766 1.5517216\n",
      " 1.56206626 1.47018138 1.35456464 1.39107519 1.45557716 1.37099439\n",
      " 1.39259646 1.34117744 1.29219245 1.22921175 1.21430328 1.22069263\n",
      " 1.13702262 1.12759073 1.06095897 1.06400152 1.05548239 1.12819924\n",
      " 1.14858429 1.15649491 1.05974196 0.95507838 0.86958285 0.8364191\n",
      " 0.84706801 0.8966615  1.05882919 1.02870799 0.96359751 1.00801868\n",
      " 1.0168097  1.00558758 0.9976458  0.99246478 0.98948181 0.9881655\n",
      " 0.98805392 0.9887715  0.99003023 0.99161947 0.9933942  0.99525988\n",
      " 0.99716043 0.99906546 1.00096142 1.00284636 1.00472236 1.00659502\n",
      " 1.00846899 1.01034904 1.0122385  1.01413941 1.01605284 1.01797915\n",
      " 1.01991725 1.02186668 1.02382636 1.02579486]\n"
     ]
    },
    {
     "name": "stdout",
     "output_type": "stream",
     "text": [
      "1/1 [==============================] - 0s 43ms/step\n",
      "28 day output [[1.0277714]]\n",
      "29 day input [1.20061182 1.31288176 1.36673482 1.32383493 1.34787104 1.23986066\n",
      " 1.24442448 1.24442448 1.25020532 1.25750743 1.27393718 1.08803763\n",
      " 1.03509734 1.1391524  1.24807554 1.24381597 1.22829899 1.2824563\n",
      " 1.3755582  1.39411773 1.43367083 1.53194506 1.4787005  1.41906661\n",
      " 1.36643057 1.41876235 1.32931151 1.29340947 1.24533725 1.30253711\n",
      " 1.30801369 1.31714133 1.30953496 1.35091358 1.38864115 1.40294112\n",
      " 1.362171   1.41754534 1.44644952 1.42271766 1.5517216  1.56206626\n",
      " 1.47018138 1.35456464 1.39107519 1.45557716 1.37099439 1.39259646\n",
      " 1.34117744 1.29219245 1.22921175 1.21430328 1.22069263 1.13702262\n",
      " 1.12759073 1.06095897 1.06400152 1.05548239 1.12819924 1.14858429\n",
      " 1.15649491 1.05974196 0.95507838 0.86958285 0.8364191  0.84706801\n",
      " 0.8966615  1.05882919 1.02870799 0.96359751 1.00801868 1.0168097\n",
      " 1.00558758 0.9976458  0.99246478 0.98948181 0.9881655  0.98805392\n",
      " 0.9887715  0.99003023 0.99161947 0.9933942  0.99525988 0.99716043\n",
      " 0.99906546 1.00096142 1.00284636 1.00472236 1.00659502 1.00846899\n",
      " 1.01034904 1.0122385  1.01413941 1.01605284 1.01797915 1.01991725\n",
      " 1.02186668 1.02382636 1.02579486 1.02777135]\n",
      "1/1 [==============================] - 0s 40ms/step\n",
      "29 day output [[1.0297548]]\n",
      "[[1.0168097019195557], [1.0055875778198242], [0.9976457953453064], [0.9924647808074951], [0.9894818067550659], [0.9881654977798462], [0.9880539178848267], [0.9887714982032776], [0.9900302290916443], [0.9916194677352905], [0.9933941960334778], [0.9952598810195923], [0.9971604347229004], [0.9990654587745667], [1.000961422920227], [1.002846360206604], [1.0047223567962646], [1.0065950155258179], [1.0084689855575562], [1.0103490352630615], [1.0122385025024414], [1.0141394138336182], [1.0160528421401978], [1.0179791450500488], [1.0199172496795654], [1.0218666791915894], [1.0238263607025146], [1.0257948637008667], [1.0277713537216187], [1.0297547578811646]]\n"
     ]
    }
   ],
   "source": [
    "lst_output = []\n",
    "n_steps = 100\n",
    "i = 0 \n",
    "while i<30:   #For 30 days forecast\n",
    "    if(len(temp_input)>100):\n",
    "        #print(temp_input)\n",
    "        x_input = np.array(temp_input[1:]) # Taking x_input values from 2nd value onward, so that total value will be 100\n",
    "        print('{} day input {}'.format(i,x_input))\n",
    "        x_input = x_input.reshape(1,-1)\n",
    "        x_input = x_input.reshape((1,n_steps,1)) #making tensor of 1 batch, with n rows and 1 column\n",
    "        #print(x_input)\n",
    "        yhat = model.predict(x_input,verbose = 1)\n",
    "        print('{} day output {}'.format(i,yhat))\n",
    "        temp_input.extend(yhat[0].tolist()) #Adding forecasted value to the temp_input, for further forecasting, now there are 102 values in temp_input\n",
    "        temp_input = temp_input[1:] #Because after adding the above yhat[0], total number of elements in temp_input is 102, so we will select last 101 elements so that again if loop will go on running for 30 days\n",
    "        #print(temp_input)\n",
    "        lst_output.extend(yhat.tolist())\n",
    "        i = i+1\n",
    "    else:        #first loop will go inside this\n",
    "        x_input = x_input.reshape((1,n_steps,1))  #last 100 days data, nsteps = 100 and reshaping it so that we can feed it in LSTM\n",
    "        yhat = model.predict(x_input,verbose = 0) #Taking prediction from model \n",
    "        print(yhat[0])\n",
    "        temp_input.extend(yhat[0].tolist()) #Adding predicted value of 101 day in temp_input, so that this value can be used for forecasting values for days starting from day 102\n",
    "        print(len(temp_input))\n",
    "        lst_output.extend(yhat.tolist())  #Adding 101 day forecast to Output forecasting list \n",
    "        i = i+1\n",
    "        \n",
    "print(lst_output)"
   ]
  },
  {
   "cell_type": "code",
   "execution_count": 67,
   "metadata": {},
   "outputs": [
    {
     "data": {
      "text/plain": [
       "[[1.0168097019195557],\n",
       " [1.0055875778198242],\n",
       " [0.9976457953453064],\n",
       " [0.9924647808074951],\n",
       " [0.9894818067550659],\n",
       " [0.9881654977798462],\n",
       " [0.9880539178848267],\n",
       " [0.9887714982032776],\n",
       " [0.9900302290916443],\n",
       " [0.9916194677352905],\n",
       " [0.9933941960334778],\n",
       " [0.9952598810195923],\n",
       " [0.9971604347229004],\n",
       " [0.9990654587745667],\n",
       " [1.000961422920227],\n",
       " [1.002846360206604],\n",
       " [1.0047223567962646],\n",
       " [1.0065950155258179],\n",
       " [1.0084689855575562],\n",
       " [1.0103490352630615],\n",
       " [1.0122385025024414],\n",
       " [1.0141394138336182],\n",
       " [1.0160528421401978],\n",
       " [1.0179791450500488],\n",
       " [1.0199172496795654],\n",
       " [1.0218666791915894],\n",
       " [1.0238263607025146],\n",
       " [1.0257948637008667],\n",
       " [1.0277713537216187],\n",
       " [1.0297547578811646]]"
      ]
     },
     "execution_count": 67,
     "metadata": {},
     "output_type": "execute_result"
    }
   ],
   "source": [
    "lst_output"
   ]
  },
  {
   "cell_type": "code",
   "execution_count": 68,
   "metadata": {},
   "outputs": [],
   "source": [
    "forecast = scaler.inverse_transform(lst_output)"
   ]
  },
  {
   "cell_type": "code",
   "execution_count": 69,
   "metadata": {},
   "outputs": [
    {
     "data": {
      "text/plain": [
       "(30, 1)"
      ]
     },
     "execution_count": 69,
     "metadata": {},
     "output_type": "execute_result"
    }
   ],
   "source": [
    "forecast.shape"
   ]
  },
  {
   "cell_type": "code",
   "execution_count": 70,
   "metadata": {},
   "outputs": [],
   "source": [
    "forecast = forecast.reshape(30,)"
   ]
  },
  {
   "cell_type": "code",
   "execution_count": 71,
   "metadata": {},
   "outputs": [
    {
     "data": {
      "text/html": [
       "<div>\n",
       "<style scoped>\n",
       "    .dataframe tbody tr th:only-of-type {\n",
       "        vertical-align: middle;\n",
       "    }\n",
       "\n",
       "    .dataframe tbody tr th {\n",
       "        vertical-align: top;\n",
       "    }\n",
       "\n",
       "    .dataframe thead th {\n",
       "        text-align: right;\n",
       "    }\n",
       "</style>\n",
       "<table border=\"1\" class=\"dataframe\">\n",
       "  <thead>\n",
       "    <tr style=\"text-align: right;\">\n",
       "      <th></th>\n",
       "      <th>Value</th>\n",
       "      <th>Predicted Price</th>\n",
       "    </tr>\n",
       "    <tr>\n",
       "      <th>Date</th>\n",
       "      <th></th>\n",
       "      <th></th>\n",
       "    </tr>\n",
       "  </thead>\n",
       "  <tbody>\n",
       "    <tr>\n",
       "      <th>1987-10-08</th>\n",
       "      <td>18.63</td>\n",
       "      <td>18.590397</td>\n",
       "    </tr>\n",
       "    <tr>\n",
       "      <th>1987-10-09</th>\n",
       "      <td>18.60</td>\n",
       "      <td>18.606668</td>\n",
       "    </tr>\n",
       "    <tr>\n",
       "      <th>1987-10-12</th>\n",
       "      <td>18.55</td>\n",
       "      <td>18.621763</td>\n",
       "    </tr>\n",
       "    <tr>\n",
       "      <th>1987-10-13</th>\n",
       "      <td>18.55</td>\n",
       "      <td>18.635233</td>\n",
       "    </tr>\n",
       "    <tr>\n",
       "      <th>1987-10-14</th>\n",
       "      <td>18.68</td>\n",
       "      <td>18.646811</td>\n",
       "    </tr>\n",
       "    <tr>\n",
       "      <th>...</th>\n",
       "      <td>...</td>\n",
       "      <td>...</td>\n",
       "    </tr>\n",
       "    <tr>\n",
       "      <th>2022-12-12</th>\n",
       "      <td>78.00</td>\n",
       "      <td>85.462479</td>\n",
       "    </tr>\n",
       "    <tr>\n",
       "      <th>2022-12-14</th>\n",
       "      <td>83.33</td>\n",
       "      <td>84.565475</td>\n",
       "    </tr>\n",
       "    <tr>\n",
       "      <th>2022-12-15</th>\n",
       "      <td>82.34</td>\n",
       "      <td>83.748543</td>\n",
       "    </tr>\n",
       "    <tr>\n",
       "      <th>2022-12-16</th>\n",
       "      <td>80.20</td>\n",
       "      <td>83.042694</td>\n",
       "    </tr>\n",
       "    <tr>\n",
       "      <th>2022-12-19</th>\n",
       "      <td>81.66</td>\n",
       "      <td>82.437431</td>\n",
       "    </tr>\n",
       "  </tbody>\n",
       "</table>\n",
       "<p>8946 rows × 2 columns</p>\n",
       "</div>"
      ],
      "text/plain": [
       "            Value  Predicted Price\n",
       "Date                              \n",
       "1987-10-08  18.63        18.590397\n",
       "1987-10-09  18.60        18.606668\n",
       "1987-10-12  18.55        18.621763\n",
       "1987-10-13  18.55        18.635233\n",
       "1987-10-14  18.68        18.646811\n",
       "...           ...              ...\n",
       "2022-12-12  78.00        85.462479\n",
       "2022-12-14  83.33        84.565475\n",
       "2022-12-15  82.34        83.748543\n",
       "2022-12-16  80.20        83.042694\n",
       "2022-12-19  81.66        82.437431\n",
       "\n",
       "[8946 rows x 2 columns]"
      ]
     },
     "execution_count": 71,
     "metadata": {},
     "output_type": "execute_result"
    }
   ],
   "source": [
    "ddf"
   ]
  },
  {
   "cell_type": "code",
   "execution_count": 72,
   "metadata": {},
   "outputs": [],
   "source": [
    "t_fut = pd.date_range('2022-12-20 00:00:00+00:00',periods=30)"
   ]
  },
  {
   "cell_type": "code",
   "execution_count": 73,
   "metadata": {},
   "outputs": [
    {
     "data": {
      "text/plain": [
       "DatetimeIndex(['2022-12-20 00:00:00+00:00', '2022-12-21 00:00:00+00:00',\n",
       "               '2022-12-22 00:00:00+00:00', '2022-12-23 00:00:00+00:00',\n",
       "               '2022-12-24 00:00:00+00:00', '2022-12-25 00:00:00+00:00',\n",
       "               '2022-12-26 00:00:00+00:00', '2022-12-27 00:00:00+00:00',\n",
       "               '2022-12-28 00:00:00+00:00', '2022-12-29 00:00:00+00:00',\n",
       "               '2022-12-30 00:00:00+00:00', '2022-12-31 00:00:00+00:00',\n",
       "               '2023-01-01 00:00:00+00:00', '2023-01-02 00:00:00+00:00',\n",
       "               '2023-01-03 00:00:00+00:00', '2023-01-04 00:00:00+00:00',\n",
       "               '2023-01-05 00:00:00+00:00', '2023-01-06 00:00:00+00:00',\n",
       "               '2023-01-07 00:00:00+00:00', '2023-01-08 00:00:00+00:00',\n",
       "               '2023-01-09 00:00:00+00:00', '2023-01-10 00:00:00+00:00',\n",
       "               '2023-01-11 00:00:00+00:00', '2023-01-12 00:00:00+00:00',\n",
       "               '2023-01-13 00:00:00+00:00', '2023-01-14 00:00:00+00:00',\n",
       "               '2023-01-15 00:00:00+00:00', '2023-01-16 00:00:00+00:00',\n",
       "               '2023-01-17 00:00:00+00:00', '2023-01-18 00:00:00+00:00'],\n",
       "              dtype='datetime64[ns, UTC]', freq='D')"
      ]
     },
     "execution_count": 73,
     "metadata": {},
     "output_type": "execute_result"
    }
   ],
   "source": [
    "t_fut"
   ]
  },
  {
   "cell_type": "code",
   "execution_count": 74,
   "metadata": {},
   "outputs": [],
   "source": [
    "dffor = pd.DataFrame({'Forecast Price':forecast},index = t_fut)"
   ]
  },
  {
   "cell_type": "code",
   "execution_count": 75,
   "metadata": {},
   "outputs": [
    {
     "data": {
      "text/html": [
       "<div>\n",
       "<style scoped>\n",
       "    .dataframe tbody tr th:only-of-type {\n",
       "        vertical-align: middle;\n",
       "    }\n",
       "\n",
       "    .dataframe tbody tr th {\n",
       "        vertical-align: top;\n",
       "    }\n",
       "\n",
       "    .dataframe thead th {\n",
       "        text-align: right;\n",
       "    }\n",
       "</style>\n",
       "<table border=\"1\" class=\"dataframe\">\n",
       "  <thead>\n",
       "    <tr style=\"text-align: right;\">\n",
       "      <th></th>\n",
       "      <th>Forecast Price</th>\n",
       "    </tr>\n",
       "  </thead>\n",
       "  <tbody>\n",
       "    <tr>\n",
       "      <th>2022-12-20 00:00:00+00:00</th>\n",
       "      <td>81.948936</td>\n",
       "    </tr>\n",
       "    <tr>\n",
       "      <th>2022-12-21 00:00:00+00:00</th>\n",
       "      <td>81.580096</td>\n",
       "    </tr>\n",
       "    <tr>\n",
       "      <th>2022-12-22 00:00:00+00:00</th>\n",
       "      <td>81.319072</td>\n",
       "    </tr>\n",
       "    <tr>\n",
       "      <th>2022-12-23 00:00:00+00:00</th>\n",
       "      <td>81.148787</td>\n",
       "    </tr>\n",
       "    <tr>\n",
       "      <th>2022-12-24 00:00:00+00:00</th>\n",
       "      <td>81.050745</td>\n",
       "    </tr>\n",
       "    <tr>\n",
       "      <th>2022-12-25 00:00:00+00:00</th>\n",
       "      <td>81.007481</td>\n",
       "    </tr>\n",
       "    <tr>\n",
       "      <th>2022-12-26 00:00:00+00:00</th>\n",
       "      <td>81.003814</td>\n",
       "    </tr>\n",
       "    <tr>\n",
       "      <th>2022-12-27 00:00:00+00:00</th>\n",
       "      <td>81.027399</td>\n",
       "    </tr>\n",
       "    <tr>\n",
       "      <th>2022-12-28 00:00:00+00:00</th>\n",
       "      <td>81.068770</td>\n",
       "    </tr>\n",
       "    <tr>\n",
       "      <th>2022-12-29 00:00:00+00:00</th>\n",
       "      <td>81.121004</td>\n",
       "    </tr>\n",
       "    <tr>\n",
       "      <th>2022-12-30 00:00:00+00:00</th>\n",
       "      <td>81.179334</td>\n",
       "    </tr>\n",
       "    <tr>\n",
       "      <th>2022-12-31 00:00:00+00:00</th>\n",
       "      <td>81.240654</td>\n",
       "    </tr>\n",
       "    <tr>\n",
       "      <th>2023-01-01 00:00:00+00:00</th>\n",
       "      <td>81.303120</td>\n",
       "    </tr>\n",
       "    <tr>\n",
       "      <th>2023-01-02 00:00:00+00:00</th>\n",
       "      <td>81.365733</td>\n",
       "    </tr>\n",
       "    <tr>\n",
       "      <th>2023-01-03 00:00:00+00:00</th>\n",
       "      <td>81.428048</td>\n",
       "    </tr>\n",
       "    <tr>\n",
       "      <th>2023-01-04 00:00:00+00:00</th>\n",
       "      <td>81.490000</td>\n",
       "    </tr>\n",
       "    <tr>\n",
       "      <th>2023-01-05 00:00:00+00:00</th>\n",
       "      <td>81.551659</td>\n",
       "    </tr>\n",
       "    <tr>\n",
       "      <th>2023-01-06 00:00:00+00:00</th>\n",
       "      <td>81.613208</td>\n",
       "    </tr>\n",
       "    <tr>\n",
       "      <th>2023-01-07 00:00:00+00:00</th>\n",
       "      <td>81.674800</td>\n",
       "    </tr>\n",
       "    <tr>\n",
       "      <th>2023-01-08 00:00:00+00:00</th>\n",
       "      <td>81.736592</td>\n",
       "    </tr>\n",
       "    <tr>\n",
       "      <th>2023-01-09 00:00:00+00:00</th>\n",
       "      <td>81.798694</td>\n",
       "    </tr>\n",
       "    <tr>\n",
       "      <th>2023-01-10 00:00:00+00:00</th>\n",
       "      <td>81.861172</td>\n",
       "    </tr>\n",
       "    <tr>\n",
       "      <th>2023-01-11 00:00:00+00:00</th>\n",
       "      <td>81.924061</td>\n",
       "    </tr>\n",
       "    <tr>\n",
       "      <th>2023-01-12 00:00:00+00:00</th>\n",
       "      <td>81.987373</td>\n",
       "    </tr>\n",
       "    <tr>\n",
       "      <th>2023-01-13 00:00:00+00:00</th>\n",
       "      <td>82.051073</td>\n",
       "    </tr>\n",
       "    <tr>\n",
       "      <th>2023-01-14 00:00:00+00:00</th>\n",
       "      <td>82.115145</td>\n",
       "    </tr>\n",
       "    <tr>\n",
       "      <th>2023-01-15 00:00:00+00:00</th>\n",
       "      <td>82.179554</td>\n",
       "    </tr>\n",
       "    <tr>\n",
       "      <th>2023-01-16 00:00:00+00:00</th>\n",
       "      <td>82.244254</td>\n",
       "    </tr>\n",
       "    <tr>\n",
       "      <th>2023-01-17 00:00:00+00:00</th>\n",
       "      <td>82.309215</td>\n",
       "    </tr>\n",
       "    <tr>\n",
       "      <th>2023-01-18 00:00:00+00:00</th>\n",
       "      <td>82.374404</td>\n",
       "    </tr>\n",
       "  </tbody>\n",
       "</table>\n",
       "</div>"
      ],
      "text/plain": [
       "                           Forecast Price\n",
       "2022-12-20 00:00:00+00:00       81.948936\n",
       "2022-12-21 00:00:00+00:00       81.580096\n",
       "2022-12-22 00:00:00+00:00       81.319072\n",
       "2022-12-23 00:00:00+00:00       81.148787\n",
       "2022-12-24 00:00:00+00:00       81.050745\n",
       "2022-12-25 00:00:00+00:00       81.007481\n",
       "2022-12-26 00:00:00+00:00       81.003814\n",
       "2022-12-27 00:00:00+00:00       81.027399\n",
       "2022-12-28 00:00:00+00:00       81.068770\n",
       "2022-12-29 00:00:00+00:00       81.121004\n",
       "2022-12-30 00:00:00+00:00       81.179334\n",
       "2022-12-31 00:00:00+00:00       81.240654\n",
       "2023-01-01 00:00:00+00:00       81.303120\n",
       "2023-01-02 00:00:00+00:00       81.365733\n",
       "2023-01-03 00:00:00+00:00       81.428048\n",
       "2023-01-04 00:00:00+00:00       81.490000\n",
       "2023-01-05 00:00:00+00:00       81.551659\n",
       "2023-01-06 00:00:00+00:00       81.613208\n",
       "2023-01-07 00:00:00+00:00       81.674800\n",
       "2023-01-08 00:00:00+00:00       81.736592\n",
       "2023-01-09 00:00:00+00:00       81.798694\n",
       "2023-01-10 00:00:00+00:00       81.861172\n",
       "2023-01-11 00:00:00+00:00       81.924061\n",
       "2023-01-12 00:00:00+00:00       81.987373\n",
       "2023-01-13 00:00:00+00:00       82.051073\n",
       "2023-01-14 00:00:00+00:00       82.115145\n",
       "2023-01-15 00:00:00+00:00       82.179554\n",
       "2023-01-16 00:00:00+00:00       82.244254\n",
       "2023-01-17 00:00:00+00:00       82.309215\n",
       "2023-01-18 00:00:00+00:00       82.374404"
      ]
     },
     "execution_count": 75,
     "metadata": {},
     "output_type": "execute_result"
    }
   ],
   "source": [
    "dffor"
   ]
  },
  {
   "cell_type": "code",
   "execution_count": 76,
   "metadata": {},
   "outputs": [
    {
     "data": {
      "text/plain": [
       "<matplotlib.legend.Legend at 0x1bbafe3f148>"
      ]
     },
     "execution_count": 76,
     "metadata": {},
     "output_type": "execute_result"
    },
    {
     "data": {
      "image/png": "[encoded data removed]",
      "text/plain": [
       "<Figure size 1152x504 with 1 Axes>"
      ]
     },
     "metadata": {
      "needs_background": "light"
     },
     "output_type": "display_data"
    }
   ],
   "source": [
    "plt.figure(figsize = (16,7))\n",
    "plt.grid(True)\n",
    "plt.title('Crude price Forecasting Training and Validation')\n",
    "plt.plot(df.index,df['Value'],label = \"Original Value\",c = 'blue')\n",
    "plt.plot(df[:train_predict.shape[0]+w].index,df['Predicted Price'][:train_predict.shape[0]+w],label = \"Predicted Training Price\",c = 'red')\n",
    "plt.plot(df.index[train_predict.shape[0]+100:],df['Predicted Price'][train_predict.shape[0]+w:],label = \"Predicted Validating Price\", c = 'green')\n",
    "\n",
    "plt.plot(dffor.index,dffor['Forecast Price'], label = 'Forecasted Price',c = 'black')\n",
    "\n",
    "\n",
    "plt.axvline(df.index[train_predict.shape[0]+w], color='black',lw=3)\n",
    "plt.axvline(dffor.index[0], color='black',lw=2)\n",
    "\n",
    "plt.legend()"
   ]
  },
  {
   "cell_type": "code",
   "execution_count": 77,
   "metadata": {},
   "outputs": [
    {
     "data": {
      "text/plain": [
       "<matplotlib.legend.Legend at 0x1bbaff73a08>"
      ]
     },
     "execution_count": 77,
     "metadata": {},
     "output_type": "execute_result"
    },
    {
     "data": {
      "image/png": "[encoded data removed]",
      "text/plain": [
       "<Figure size 1152x504 with 1 Axes>"
      ]
     },
     "metadata": {
      "needs_background": "light"
     },
     "output_type": "display_data"
    }
   ],
   "source": [
    "plt.figure(figsize = (16,7))\n",
    "plt.grid(True)\n",
    "plt.title('Crude price Forecasting Training and Validation')\n",
    "#plt.plot(df.index,df['Value'],label = \"Original Value\",c = 'blue')\n",
    "#plt.plot(df[:train_predict.shape[0]+w].index,df['Predicted Price'][:train_predict.shape[0]+w],label = \"Predicted Training Price\",c = 'red')\n",
    "plt.plot(df.index[train_predict.shape[0]+100:],df['Predicted Price'][train_predict.shape[0]+w:],label = \"Predicted Validating Price\", c = 'green')\n",
    "\n",
    "plt.plot(dffor.index,dffor['Forecast Price'], label = 'Forecasted Price',c = 'black')\n",
    "\n",
    "\n",
    "plt.axvline(df.index[train_predict.shape[0]+w], color='black',lw=3)\n",
    "plt.axvline(dffor.index[0], color='black',lw=2)\n",
    "\n",
    "plt.legend()"
   ]
  },
  {
   "cell_type": "markdown",
   "metadata": {},
   "source": [
    "## Thank You"
   ]
  }
 ],
 "metadata": {
  "kernelspec": {
   "display_name": "Python 3",
   "language": "python",
   "name": "python3"
  },
  "language_info": {
   "codemirror_mode": {
    "name": "ipython",
    "version": 3
   },
   "file_extension": ".py",
   "mimetype": "text/x-python",
   "name": "python",
   "nbconvert_exporter": "python",
   "pygments_lexer": "ipython3",
   "version": "3.7.4"
  }
 },
 "nbformat": 4,
 "nbformat_minor": 2
}
